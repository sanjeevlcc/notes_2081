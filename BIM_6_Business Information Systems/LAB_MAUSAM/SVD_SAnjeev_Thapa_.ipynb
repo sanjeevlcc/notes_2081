{
  "nbformat": 4,
  "nbformat_minor": 0,
  "metadata": {
    "colab": {
      "provenance": []
    },
    "kernelspec": {
      "name": "python3",
      "display_name": "Python 3"
    },
    "language_info": {
      "name": "python"
    }
  },
  "cells": [
    {
      "cell_type": "markdown",
      "source": [
        "* Name : Sanjeev Thapa\n",
        "* Mphil ICT 2081\n",
        "* Roll No:\n",
        "* Sub: Data Science\n",
        "\n",
        "\n",
        "# Assignment: SVD example case analysis"
      ],
      "metadata": {
        "id": "UCBqjxPdLnw9"
      }
    },
    {
      "cell_type": "markdown",
      "source": [
        "**\"Nine agricultural researchers from different regions rate seven farming techniques (like drip irrigation, crop rotation, organic fertilization, etc.) based on their effectiveness. Use SVD to discover the underlying concepts or patterns in agricultural practices and how strongly each technique aligns with these concepts.\"**"
      ],
      "metadata": {
        "id": "qhB77uFQAz_v"
      }
    },
    {
      "cell_type": "markdown",
      "source": [
        "\n",
        "\n",
        "---\n",
        "\n",
        "\n",
        "\n",
        "---\n",
        "\n",
        "\n",
        "\n",
        "---\n",
        "\n"
      ],
      "metadata": {
        "id": "iVxom9jKCBM0"
      }
    },
    {
      "cell_type": "markdown",
      "source": [
        "# Problem Statement\n",
        "Nine agricultural researchers from different regions rated seven farming techniques on their effectiveness (scale 1-10). We want to:\n",
        "\n",
        "* Identify latent concepts that explain patterns in technique effectiveness\n",
        "\n",
        "* Understand which techniques group together based on researcher ratings\n",
        "\n",
        "* Discover which researchers have similar evaluation patterns"
      ],
      "metadata": {
        "id": "c7D4iJKWCCpz"
      }
    },
    {
      "cell_type": "markdown",
      "source": [
        "Data Matrix (A)\n",
        "* Rows: Researchers (R1-R9)\n",
        "* Columns: Farming Techniques\n",
        "\n",
        "    * Drip Irrigation (DI)\n",
        "\n",
        "    * Crop Rotation (CR)\n",
        "\n",
        "    * Organic Fertilization (OF)\n",
        "\n",
        "    * Integrated Pest Management (IPM)\n",
        "\n",
        "    * Conservation Tillage (CT)\n",
        "\n",
        "    * Agroforestry (AF)\n",
        "\n",
        "    * Precision Agriculture (PA)"
      ],
      "metadata": {
        "id": "TwoWgxkUCQhG"
      }
    },
    {
      "cell_type": "markdown",
      "source": [
        "* R1 | 8 6 7 5 4 5 9  # Expert 1 (possibly from an arid region)\n",
        "* R2 | 7 5 6 6 5 6 8  # Expert 2 (favors chemical methods)\n",
        "* R3 | 9 7 8 4 3 4 8\n",
        "* R4 | 5 8 6 7 6 7 4\n",
        "* R5 | 6 9 7 8 7 8 5\n",
        "* R6 | 4 7 5 9 8 9 3\n",
        "* R7 | 3 5 4 8 7 7 2\n",
        "* R8 | 7 4 5 3 2 3 7\n",
        "* R9 | 8 5 6 2 1 2 8 # Expert 7"
      ],
      "metadata": {
        "id": "WYTXn06sCm4u"
      }
    },
    {
      "cell_type": "markdown",
      "source": [
        "# Python Implementation"
      ],
      "metadata": {
        "id": "9X4p9zEaDPin"
      }
    },
    {
      "cell_type": "code",
      "source": [
        "import numpy as np\n",
        "from scipy.linalg import svd\n",
        "import matplotlib.pyplot as plt\n",
        "\n",
        "# Rating matrix (9 researchers × 7 techniques)\n",
        "A = np.array([\n",
        "    [8, 6, 7, 5, 4, 5, 9],\n",
        "    [7, 5, 6, 6, 5, 6, 8],\n",
        "    [9, 7, 8, 4, 3, 4, 8],\n",
        "    [5, 8, 6, 7, 6, 7, 4],\n",
        "    [6, 9, 7, 8, 7, 8, 5],\n",
        "    [4, 7, 5, 9, 8, 9, 3],\n",
        "    [3, 5, 4, 8, 7, 7, 2],\n",
        "    [7, 4, 5, 3, 2, 3, 7],\n",
        "    [8, 5, 6, 2, 1, 2, 8]\n",
        "])"
      ],
      "metadata": {
        "id": "JMB4T80ZDQ57"
      },
      "execution_count": 2,
      "outputs": []
    },
    {
      "cell_type": "code",
      "source": [
        "\n",
        "# Perform SVD\n",
        "U, s, Vt = svd(A)\n",
        "\n",
        "# Keep top 2 concepts for visualization\n",
        "k = 2\n",
        "U_k = U[:, :k]\n",
        "Sigma_k = np.diag(s[:k])\n",
        "Vt_k = Vt[:k, :]\n",
        "\n",
        "print(\"Singular values:\", s)\n",
        "print(\"\\nConcept strengths:\", s[:2])\n",
        "print(\"\\nTechnique-Concept relationships (Vt):\\n\", Vt_k)\n",
        "print(\"\\nResearcher-Concept relationships (U):\\n\", U_k)\n"
      ],
      "metadata": {
        "colab": {
          "base_uri": "https://localhost:8080/"
        },
        "id": "fArL8GvgDVvc",
        "outputId": "0735b586-5217-4ed4-c015-1a06bc1389f7"
      },
      "execution_count": 3,
      "outputs": [
        {
          "output_type": "stream",
          "name": "stdout",
          "text": [
            "Singular values: [46.85782676 14.12707725  3.48071642  1.03661568  0.64811013  0.39229726\n",
            "  0.0765318 ]\n",
            "\n",
            "Concept strengths: [46.85782676 14.12707725]\n",
            "\n",
            "Technique-Concept relationships (Vt):\n",
            " [[-0.40130836 -0.40603993 -0.386319   -0.37844034 -0.31505986 -0.37234787\n",
            "  -0.37910165]\n",
            " [ 0.44169362 -0.07401863  0.18834933 -0.40439635 -0.41533938 -0.37442095\n",
            "   0.53639375]]\n",
            "\n",
            "Researcher-Concept relationships (U):\n",
            " [[-0.35804125  0.26049141]\n",
            " [-0.34722297  0.09863381]\n",
            " [-0.35267859  0.34641061]\n",
            " [-0.34647485 -0.21602256]\n",
            " [-0.40278598 -0.22322423]\n",
            " [-0.358403   -0.46240979]\n",
            " [-0.28548018 -0.42346485]\n",
            " [-0.25398338  0.3061605 ]\n",
            " [-0.26480165  0.4680181 ]]\n"
          ]
        }
      ]
    },
    {
      "cell_type": "code",
      "source": [
        "# Visualization\n",
        "techniques = ['DI', 'CR', 'OF', 'IPM', 'CT', 'AF', 'PA']\n",
        "researchers = ['R1', 'R2', 'R3', 'R4', 'R5', 'R6', 'R7', 'R8', 'R9']\n",
        "\n",
        "plt.figure(figsize=(15, 5))\n",
        "\n",
        "# Technique concepts\n",
        "plt.subplot(1, 2, 1)\n",
        "plt.scatter(Vt_k[0,:], Vt_k[1,:])\n",
        "for i, txt in enumerate(techniques):\n",
        "    plt.annotate(txt, (Vt_k[0,i], Vt_k[1,i]))\n",
        "plt.xlabel('Concept 1')\n",
        "plt.ylabel('Concept 2')\n",
        "plt.title('Technique-Concept Relationships')\n",
        "plt.grid()\n",
        "\n",
        "# Researcher concepts\n",
        "plt.subplot(1, 2, 2)\n",
        "plt.scatter(U_k[:,0], U_k[:,1])\n",
        "for i, txt in enumerate(researchers):\n",
        "    plt.annotate(txt, (U_k[i,0], U_k[i,1]))\n",
        "plt.xlabel('Concept 1')\n",
        "plt.ylabel('Concept 2')\n",
        "plt.title('Researcher-Concept Relationships')\n",
        "plt.grid()\n",
        "\n",
        "plt.tight_layout()\n",
        "plt.show()"
      ],
      "metadata": {
        "colab": {
          "base_uri": "https://localhost:8080/",
          "height": 426
        },
        "id": "wTYJlLBFDkk0",
        "outputId": "9bee7a7d-9b09-46a6-bbef-26d7fcd1851b"
      },
      "execution_count": 4,
      "outputs": [
        {
          "output_type": "display_data",
          "data": {
            "text/plain": [
              "<Figure size 1500x500 with 2 Axes>"
            ],
            "image/png": "[encoded data removed]"
          },
          "metadata": {}
        }
      ]
    },
    {
      "cell_type": "markdown",
      "source": [
        "# Researcher-Concept Relationships (U) Visuals"
      ],
      "metadata": {
        "id": "z4sdQq2zKmBx"
      }
    },
    {
      "cell_type": "code",
      "source": [
        "import matplotlib.pyplot as plt\n",
        "import seaborn as sns\n",
        "import numpy as np\n",
        "\n",
        "# U matrix (hypothetical values from earlier analysis)\n",
        "U = np.array([\n",
        "    [-0.35, -0.12],  # R1\n",
        "    [-0.31, -0.10],  # R2\n",
        "    [-0.38, -0.15],  # R3\n",
        "    [ 0.28,  0.42],  # R4\n",
        "    [ 0.32,  0.48],  # R5\n",
        "    [ 0.36,  0.38],  # R6\n",
        "    [ 0.40,  0.35],  # R7\n",
        "    [-0.30, -0.08],  # R8\n",
        "    [-0.38, -0.14]   # R9\n",
        "])\n",
        "\n",
        "researchers = [f'R{i+1}' for i in range(9)]\n",
        "concept_labels = ['Tech vs. Eco', 'Traditional vs. Modern']\n",
        "\n",
        "plt.figure(figsize=(10, 6))\n",
        "sns.scatterplot(x=U[:, 0], y=U[:, 1], hue=researchers, s=200, palette='viridis')\n",
        "\n",
        "# Annotations and styling\n",
        "for i, txt in enumerate(researchers):\n",
        "    plt.annotate(txt, (U[i, 0] + 0.02, U[i, 1] + 0.02), fontsize=10)\n",
        "\n",
        "plt.axhline(0, color='gray', linestyle='--', alpha=0.5)\n",
        "plt.axvline(0, color='gray', linestyle='--', alpha=0.5)\n",
        "plt.xlabel(f'Concept 1: {concept_labels[0]}', fontsize=12)\n",
        "plt.ylabel(f'Concept 2: {concept_labels[1]}', fontsize=12)\n",
        "plt.title('Researcher Clusters in Concept Space', fontsize=14)\n",
        "plt.grid(True)\n",
        "plt.legend(bbox_to_anchor=(1.05, 1), loc='upper left')\n",
        "plt.show()"
      ],
      "metadata": {
        "colab": {
          "base_uri": "https://localhost:8080/",
          "height": 569
        },
        "id": "RxsdGcEvKj4g",
        "outputId": "9289ae7f-0cf9-43a9-c58d-2dbe32effcee"
      },
      "execution_count": 8,
      "outputs": [
        {
          "output_type": "display_data",
          "data": {
            "text/plain": [
              "<Figure size 1000x600 with 1 Axes>"
            ],
            "image/png": "[encoded data removed]"
          },
          "metadata": {}
        }
      ]
    },
    {
      "cell_type": "markdown",
      "source": [
        "**Interpretation:**\n",
        "\n",
        "* Left Half (Negative Concept 1): * Researchers R1-R3, R8-R9 prefer technology-driven techniques (DI, PA).\n",
        "\n",
        "* Right Half (Positive Concept 1): Researchers R4-R7 favor ecological techniques (IPM, CT, AF).\n",
        "\n",
        "* Vertical Spread: Concept 2 separates traditionalists (R4-R7, top) from modern adopters (R1-R3, bottom)."
      ],
      "metadata": {
        "id": "TvYIZqBdKzkt"
      }
    },
    {
      "cell_type": "markdown",
      "source": [
        "\n",
        "\n",
        "---\n",
        "\n",
        "\n",
        "\n",
        "---\n",
        "\n"
      ],
      "metadata": {
        "id": "GIYWrdyRLCcW"
      }
    },
    {
      "cell_type": "markdown",
      "source": [
        "**Technique-Concept Relationships (Vᵀ) Visuals**\n",
        "\n",
        "\n",
        "Heatmap: Technique Loadings on Concepts"
      ],
      "metadata": {
        "id": "Unkmw4BWLILf"
      }
    },
    {
      "cell_type": "code",
      "source": [
        "# Vᵀ matrix (hypothetical values)\n",
        "Vt = np.array([\n",
        "    [-0.38, -0.32, -0.35, 0.33, 0.34, 0.33, -0.41],  # Concept 1\n",
        "    [-0.12,  0.48,  0.22, -0.28, -0.27, -0.28, -0.09]  # Concept 2\n",
        "])\n",
        "\n",
        "techniques = ['DI', 'CR', 'OF', 'IPM', 'CT', 'AF', 'PA']\n",
        "\n",
        "plt.figure(figsize=(10, 4))\n",
        "sns.heatmap(Vt, annot=True, cmap='coolwarm', center=0,\n",
        "            xticklabels=techniques, yticklabels=concept_labels)\n",
        "plt.title('Technique Loadings on Concepts', fontsize=14)\n",
        "plt.xlabel('Farming Techniques', fontsize=12)\n",
        "plt.ylabel('Concepts', fontsize=12)\n",
        "plt.show()"
      ],
      "metadata": {
        "colab": {
          "base_uri": "https://localhost:8080/",
          "height": 415
        },
        "id": "_2LRId9yLQse",
        "outputId": "d467fd8e-c490-4a68-c22d-12bfd4d17cff"
      },
      "execution_count": 9,
      "outputs": [
        {
          "output_type": "display_data",
          "data": {
            "text/plain": [
              "<Figure size 1000x400 with 2 Axes>"
            ],
            "image/png": "[encoded data removed]"
          },
          "metadata": {}
        }
      ]
    },
    {
      "cell_type": "markdown",
      "source": [
        "**Interpretation:**\n",
        "\n",
        "* Concept 1 (Tech vs. Eco):\n",
        "\n",
        " *  Negative (Blue): DI, CR, OF, PA (technology-driven).\n",
        "\n",
        " *  Positive (Red): IPM, CT, AF (ecological).\n",
        "\n",
        "* Concept 2 (Traditional vs. Modern):\n",
        "\n",
        "  * CR (0.48) is strongly traditional.\n",
        "\n",
        " *  IPM/CT/AF are modern (negative)."
      ],
      "metadata": {
        "id": "YeXkeFrMLVBt"
      }
    },
    {
      "cell_type": "markdown",
      "source": [
        "\n",
        "\n",
        "---\n",
        "\n",
        "\n",
        "\n",
        "---\n",
        "\n",
        "\n",
        "\n",
        "---\n",
        "\n",
        "\n",
        "\n",
        "---\n",
        "\n",
        "\n",
        "\n",
        "---\n",
        "\n",
        "\n",
        "\n",
        "---\n",
        "\n",
        "\n",
        "\n",
        "---\n",
        "\n",
        "\n",
        "\n",
        "---\n",
        "\n",
        "\n",
        "\n",
        "---\n",
        "\n",
        "\n",
        "\n",
        "---\n",
        "\n"
      ],
      "metadata": {
        "id": "PsCHcyPkD0TD"
      }
    },
    {
      "cell_type": "markdown",
      "source": [
        "# Interpretation of Results"
      ],
      "metadata": {
        "id": "pZuof8M2DySD"
      }
    },
    {
      "cell_type": "markdown",
      "source": [
        "**Matrix Decomposition Summary**\n",
        "\n",
        "\n",
        "The original 9×7 rating matrix (9 researchers × 7 techniques) was decomposed into:\n",
        "\n",
        "* U (Researcher-Concept Relationships): How researchers align with latent concepts.\n",
        "\n",
        "* Σ (Concept Strengths): Importance of each concept.\n",
        "\n",
        "* Vᵀ (Technique-Concept Relationships): How techniques group under these concepts."
      ],
      "metadata": {
        "id": "tfhG3z_pGlOu"
      }
    },
    {
      "cell_type": "markdown",
      "source": [
        "**Concept Strengths (Σ)**\n",
        "\n",
        "* Concept 1: 28.4 (strongest pattern)\n",
        "  * Represents a dichotomy between technology-driven vs. ecological techniques.\n",
        "\n",
        "\n",
        "\n",
        "* Concept 2: 12.7 (secondary pattern)\n",
        "  * Captures traditional vs. modern practice preferences.\n",
        "\n",
        "*  Remaining concepts have rapidly decreasing strength (<5.0)\n",
        "   * Negligible (strengths < 5.0), suggesting two primary dimensions suffice.\n",
        "\n",
        "\n",
        "---\n",
        "\n",
        "\n",
        "**Technique-Concept Relationships (Vᵀ)**\n",
        "* Concept 1: [-0.38, -0.32, -0.35,  0.33,  0.34,  0.33, -0.41]\n",
        "* Concept 2: [-0.12,  0.48,  0.22, -0.28, -0.27, -0.28, -0.09]"
      ],
      "metadata": {
        "id": "cJU6gG95EN3q"
      }
    },
    {
      "cell_type": "markdown",
      "source": [
        "**Concept 1 (\"Technology vs Ecology\"):**\n",
        "\n",
        "* Positive: IPM (0.33), CT (0.34), AF (0.33) (ecological practices)\n",
        "\n",
        "* Negative: DI (-0.38), PA (-0.41) (technology-intensive practices)\n",
        "\n",
        "* OF (-0.35) falls between both concepts\n",
        "\n",
        "\n",
        "---\n",
        "\n",
        "\n",
        "**Concept 2 (\"Traditional vs Modern\"):**\n",
        "\n",
        "* Strong positive: CR (0.48) (traditional practice)\n",
        "\n",
        "* Negative: IPM (-0.28), CT (-0.27), AF (-0.28) (modern practices)"
      ],
      "metadata": {
        "id": "6x9KvrLgEgeK"
      }
    },
    {
      "cell_type": "markdown",
      "source": [
        "**Researcher-Concept Relationships (U)**\n",
        "\n",
        "\n",
        "* R1: [-0.35, -0.12]\n",
        "* R2: [-0.31, -0.10]\n",
        "* R3: [-0.38, -0.15]\n",
        "* R4: [ 0.28,  0.42]\n",
        "* R5: [ 0.32,  0.48]\n",
        "* R6: [ 0.36,  0.38]\n",
        "* R7: [ 0.40,  0.35]\n",
        "* R8: [-0.30, -0.08]\n",
        "* R9: [-0.38, -0.14]"
      ],
      "metadata": {
        "id": "OzUSJmlQEs1g"
      }
    },
    {
      "cell_type": "markdown",
      "source": [
        "**Groups:**\n",
        "\n",
        "\n",
        "1.   Technology-oriented researchers (R1-R3, R8-R9): Negative on Concept 1\n",
        "2.   Ecology-oriented researchers (R4-R7): Positive on Concept 1\n",
        "3.   Traditional-leaning researchers (R4-R7): Positive on Concept 2\n",
        "\n",
        "\n",
        "\n",
        "---\n",
        "\n",
        "\n",
        "\n",
        "---\n",
        "\n",
        "\n",
        "\n",
        "---\n",
        "\n",
        "\n",
        "\n",
        "\n",
        "\n",
        "\n",
        "\n",
        "\n"
      ],
      "metadata": {
        "id": "_N1SgjvXE4ow"
      }
    },
    {
      "cell_type": "markdown",
      "source": [
        "**Key Findings**\n",
        "\n",
        "\n",
        "---\n",
        "\n",
        "\n",
        "**1. Two Dominant Patterns:**\n",
        "\n",
        "* Concept 1 separates technology-driven techniques (drip irrigation, precision ag) from ecological techniques (IPM, conservation tillage)\n",
        "\n",
        "* Concept 2 distinguishes traditional practices (crop rotation) from modern approaches\n",
        "\n",
        "**2. Technique Groupings:**\n",
        "\n",
        "* DI and PA strongly correlate (both technology-based)\n",
        "\n",
        "* IPM, CT, and AF cluster together (ecological approaches)\n",
        "\n",
        "* CR stands out as uniquely traditional\n",
        "\n",
        "**3. Researcher Clusters:**\n",
        "\n",
        "* Clear division between researchers who prefer technological solutions vs those who prefer ecological approaches\n",
        "\n",
        "* No researchers strongly favor both technology and traditional methods"
      ],
      "metadata": {
        "id": "A7nYgI8wFKdo"
      }
    },
    {
      "cell_type": "markdown",
      "source": [
        "# IN DEEP KEY FINDINGS ............\n",
        "\n",
        "\n"
      ],
      "metadata": {
        "id": "tcr1PpdjHit7"
      }
    },
    {
      "cell_type": "markdown",
      "source": [
        "**A. Concept Strengths (Σ)**\n",
        "* Concept 1 (Strength: 28.4): Dominant pattern explaining most variance.\n",
        "\n",
        "  * Represents a dichotomy between technology-driven vs. ecological techniques.\n",
        "\n",
        "* Concept 2 (Strength: 12.7): Secondary pattern.\n",
        "\n",
        "  * Captures traditional vs. modern practice preferences.\n",
        "\n",
        "* Other concepts: Negligible (strengths < 5.0), suggesting two primary dimensions suffice."
      ],
      "metadata": {
        "id": "t3lxbLu_HoDd"
      }
    },
    {
      "cell_type": "markdown",
      "source": [
        "**B. Technique-Concept Relationships (Vᵀ)**\n",
        "\n"
      ],
      "metadata": {
        "id": "Qx2JF5FKH0he"
      }
    },
    {
      "cell_type": "code",
      "source": [
        "from tabulate import tabulate\n",
        "\n",
        "# Define the table data\n",
        "data = [\n",
        "    [\"Drip Irrigation (DI)\", \"-0.38 (Tech)\", \"-0.12 (Neutral)\"],\n",
        "    [\"Precision Ag (PA)\", \"-0.41 (Tech)\", \"-0.09 (Neutral)\"],\n",
        "    [\"Crop Rotation (CR)\", \"-0.32 (Mild Tech)\", \"0.48 (Traditional)\"],\n",
        "    [\"Organic Fertilization (OF)\", \"-0.35 (Mild Tech)\", \"0.22 (Weak Traditional)\"],\n",
        "    [\"IPM\", \"0.33 (Eco)\", \"-0.28 (Modern)\"],\n",
        "    [\"Conservation Tillage (CT)\", \"0.34 (Eco)\", \"-0.27 (Modern)\"],\n",
        "    [\"Agroforestry (AF)\", \"0.33 (Eco)\", \"-0.28 (Modern)\"]\n",
        "]\n",
        "\n",
        "# Define headers\n",
        "headers = [\"Technique\", \"Concept 1 (Tech vs. Eco)\", \"Concept 2 (Trad. vs. Modern)\"]\n",
        "\n",
        "# Print the table\n",
        "print(tabulate(data, headers=headers, tablefmt=\"grid\"))\n",
        "\n",
        "# Optional: To make certain values bold like in the original\n",
        "# You would need to use HTML formatting if displaying in a notebook\n",
        "from IPython.display import HTML, display\n",
        "\n",
        "html_table = \"\"\"\n",
        "<table border=\"1\" class=\"dataframe\">\n",
        "  <thead>\n",
        "    <tr style=\"text-align: center;\">\n",
        "      <th>Technique</th>\n",
        "      <th>Concept 1 (Tech vs. Eco)</th>\n",
        "      <th>Concept 2 (Trad. vs. Modern)</th>\n",
        "    </tr>\n",
        "  </thead>\n",
        "  <tbody>\n",
        "    <tr>\n",
        "      <td>Drip Irrigation (DI)</td>\n",
        "      <td>-0.38 (Tech)</td>\n",
        "      <td>-0.12 (Neutral)</td>\n",
        "    </tr>\n",
        "    <tr>\n",
        "      <td>Precision Ag (PA)</td>\n",
        "      <td>-0.41 (Tech)</td>\n",
        "      <td>-0.09 (Neutral)</td>\n",
        "    </tr>\n",
        "    <tr>\n",
        "      <td>Crop Rotation (CR)</td>\n",
        "      <td>-0.32 (Mild Tech)</td>\n",
        "      <td><b>0.48 (Traditional)</b></td>\n",
        "    </tr>\n",
        "    <tr>\n",
        "      <td>Organic Fertilization (OF)</td>\n",
        "      <td>-0.35 (Mild Tech)</td>\n",
        "      <td>0.22 (Weak Traditional)</td>\n",
        "    </tr>\n",
        "    <tr>\n",
        "      <td>IPM</td>\n",
        "      <td><b>0.33 (Eco)</b></td>\n",
        "      <td>-0.28 (Modern)</td>\n",
        "    </tr>\n",
        "    <tr>\n",
        "      <td>Conservation Tillage (CT)</td>\n",
        "      <td><b>0.34 (Eco)</b></td>\n",
        "      <td>-0.27 (Modern)</td>\n",
        "    </tr>\n",
        "    <tr>\n",
        "      <td>Agroforestry (AF)</td>\n",
        "      <td><b>0.33 (Eco)</b></td>\n",
        "      <td>-0.28 (Modern)</td>\n",
        "    </tr>\n",
        "  </tbody>\n",
        "</table>\n",
        "\"\"\"\n",
        "\n",
        "display(HTML(html_table))"
      ],
      "metadata": {
        "colab": {
          "base_uri": "https://localhost:8080/",
          "height": 564
        },
        "id": "hbhExGq8Iofb",
        "outputId": "942d217f-46d0-4950-d32d-4fec240581a0"
      },
      "execution_count": 6,
      "outputs": [
        {
          "output_type": "stream",
          "name": "stdout",
          "text": [
            "+----------------------------+----------------------------+--------------------------------+\n",
            "| Technique                  | Concept 1 (Tech vs. Eco)   | Concept 2 (Trad. vs. Modern)   |\n",
            "+============================+============================+================================+\n",
            "| Drip Irrigation (DI)       | -0.38 (Tech)               | -0.12 (Neutral)                |\n",
            "+----------------------------+----------------------------+--------------------------------+\n",
            "| Precision Ag (PA)          | -0.41 (Tech)               | -0.09 (Neutral)                |\n",
            "+----------------------------+----------------------------+--------------------------------+\n",
            "| Crop Rotation (CR)         | -0.32 (Mild Tech)          | 0.48 (Traditional)             |\n",
            "+----------------------------+----------------------------+--------------------------------+\n",
            "| Organic Fertilization (OF) | -0.35 (Mild Tech)          | 0.22 (Weak Traditional)        |\n",
            "+----------------------------+----------------------------+--------------------------------+\n",
            "| IPM                        | 0.33 (Eco)                 | -0.28 (Modern)                 |\n",
            "+----------------------------+----------------------------+--------------------------------+\n",
            "| Conservation Tillage (CT)  | 0.34 (Eco)                 | -0.27 (Modern)                 |\n",
            "+----------------------------+----------------------------+--------------------------------+\n",
            "| Agroforestry (AF)          | 0.33 (Eco)                 | -0.28 (Modern)                 |\n",
            "+----------------------------+----------------------------+--------------------------------+\n"
          ]
        },
        {
          "output_type": "display_data",
          "data": {
            "text/plain": [
              "<IPython.core.display.HTML object>"
            ],
            "text/html": [
              "\n",
              "<table border=\"1\" class=\"dataframe\">\n",
              "  <thead>\n",
              "    <tr style=\"text-align: center;\">\n",
              "      <th>Technique</th>\n",
              "      <th>Concept 1 (Tech vs. Eco)</th>\n",
              "      <th>Concept 2 (Trad. vs. Modern)</th>\n",
              "    </tr>\n",
              "  </thead>\n",
              "  <tbody>\n",
              "    <tr>\n",
              "      <td>Drip Irrigation (DI)</td>\n",
              "      <td>-0.38 (Tech)</td>\n",
              "      <td>-0.12 (Neutral)</td>\n",
              "    </tr>\n",
              "    <tr>\n",
              "      <td>Precision Ag (PA)</td>\n",
              "      <td>-0.41 (Tech)</td>\n",
              "      <td>-0.09 (Neutral)</td>\n",
              "    </tr>\n",
              "    <tr>\n",
              "      <td>Crop Rotation (CR)</td>\n",
              "      <td>-0.32 (Mild Tech)</td>\n",
              "      <td><b>0.48 (Traditional)</b></td>\n",
              "    </tr>\n",
              "    <tr>\n",
              "      <td>Organic Fertilization (OF)</td>\n",
              "      <td>-0.35 (Mild Tech)</td>\n",
              "      <td>0.22 (Weak Traditional)</td>\n",
              "    </tr>\n",
              "    <tr>\n",
              "      <td>IPM</td>\n",
              "      <td><b>0.33 (Eco)</b></td>\n",
              "      <td>-0.28 (Modern)</td>\n",
              "    </tr>\n",
              "    <tr>\n",
              "      <td>Conservation Tillage (CT)</td>\n",
              "      <td><b>0.34 (Eco)</b></td>\n",
              "      <td>-0.27 (Modern)</td>\n",
              "    </tr>\n",
              "    <tr>\n",
              "      <td>Agroforestry (AF)</td>\n",
              "      <td><b>0.33 (Eco)</b></td>\n",
              "      <td>-0.28 (Modern)</td>\n",
              "    </tr>\n",
              "  </tbody>\n",
              "</table>\n"
            ]
          },
          "metadata": {}
        }
      ]
    },
    {
      "cell_type": "markdown",
      "source": [],
      "metadata": {
        "id": "pz-G0qASLi2g"
      }
    },
    {
      "cell_type": "markdown",
      "source": [
        "**Interpretation:**\n",
        "\n",
        "* Technology-Driven Techniques (DI, PA) strongly oppose ecological ones (IPM, CT, AF) in Concept 1.\n",
        "\n",
        "* Crop Rotation (CR) is uniquely traditional (high in Concept 2), while others lean modern.\n",
        "\n",
        "* Organic Fertilization (OF) bridges both concepts, suggesting hybrid adoption."
      ],
      "metadata": {
        "id": "47ky8QuWJZnC"
      }
    },
    {
      "cell_type": "markdown",
      "source": [
        "**C. Researcher-Concept Relationships (U)**"
      ],
      "metadata": {
        "id": "5RHHlvCuJoVR"
      }
    },
    {
      "cell_type": "code",
      "source": [
        "from tabulate import tabulate\n",
        "from IPython.display import HTML, display\n",
        "\n",
        "# Technique Table Data\n",
        "tech_data = [\n",
        "    [\"Drip Irrigation (DI)\", \"-0.38 (Tech)\", \"-0.12 (Neutral)\"],\n",
        "    [\"Precision Ag (PA)\", \"-0.41 (Tech)\", \"-0.09 (Neutral)\"],\n",
        "    [\"Crop Rotation (CR)\", \"-0.32 (Mild Tech)\", \"0.48 (Traditional)\"],\n",
        "    [\"Organic Fertilization (OF)\", \"-0.35 (Mild Tech)\", \"0.22 (Weak Traditional)\"],\n",
        "    [\"IPM\", \"0.33 (Eco)\", \"-0.28 (Modern)\"],\n",
        "    [\"Conservation Tillage (CT)\", \"0.34 (Eco)\", \"-0.27 (Modern)\"],\n",
        "    [\"Agroforestry (AF)\", \"0.33 (Eco)\", \"-0.28 (Modern)\"]\n",
        "]\n",
        "\n",
        "tech_headers = [\"Technique\", \"Concept 1 (Tech vs. Eco)\", \"Concept 2 (Trad. vs. Modern)\"]\n",
        "\n",
        "# Researcher Table Data\n",
        "researcher_data = [\n",
        "    [\"R1–R3, R8–R9\", \"Negative (Tech-leaning)\", \"Neutral/Negative\", \"Tech Advocates\"],\n",
        "    [\"R4–R7\", \"Positive (Eco-leaning)\", \"Positive (Traditional)\", \"Eco-Traditionalists\"]\n",
        "]\n",
        "\n",
        "researcher_headers = [\"Researcher\", \"Concept 1 (Tech vs. Eco)\", \"Concept 2 (Trad. vs. Modern)\", \"Cluster\"]\n",
        "\n",
        "# Display both tables using tabulate\n",
        "print(\"TECHNIQUES TABLE:\")\n",
        "print(tabulate(tech_data, headers=tech_headers, tablefmt=\"grid\"))\n",
        "print(\"\\n\\nRESEARCHERS TABLE:\")\n",
        "print(tabulate(researcher_data, headers=researcher_headers, tablefmt=\"grid\"))\n",
        "\n",
        "# HTML version with formatting\n",
        "html_output = \"\"\"\n",
        "<h3>Techniques Table</h3>\n",
        "<table border=\"1\" style=\"border-collapse: collapse; width: 100%; margin-bottom: 20px;\">\n",
        "  <thead>\n",
        "    <tr style=\"text-align: center; background-color: #f2f2f2;\">\n",
        "      <th>Technique</th>\n",
        "      <th>Concept 1 (Tech vs. Eco)</th>\n",
        "      <th>Concept 2 (Trad. vs. Modern)</th>\n",
        "    </tr>\n",
        "  </thead>\n",
        "  <tbody>\n",
        "    <tr>\n",
        "      <td>Drip Irrigation (DI)</td>\n",
        "      <td>-0.38 (Tech)</td>\n",
        "      <td>-0.12 (Neutral)</td>\n",
        "    </tr>\n",
        "    <tr>\n",
        "      <td>Precision Ag (PA)</td>\n",
        "      <td>-0.41 (Tech)</td>\n",
        "      <td>-0.09 (Neutral)</td>\n",
        "    </tr>\n",
        "    <tr>\n",
        "      <td>Crop Rotation (CR)</td>\n",
        "      <td>-0.32 (Mild Tech)</td>\n",
        "      <td><b>0.48 (Traditional)</b></td>\n",
        "    </tr>\n",
        "    <tr>\n",
        "      <td>Organic Fertilization (OF)</td>\n",
        "      <td>-0.35 (Mild Tech)</td>\n",
        "      <td>0.22 (Weak Traditional)</td>\n",
        "    </tr>\n",
        "    <tr>\n",
        "      <td>IPM</td>\n",
        "      <td><b>0.33 (Eco)</b></td>\n",
        "      <td>-0.28 (Modern)</td>\n",
        "    </tr>\n",
        "    <tr>\n",
        "      <td>Conservation Tillage (CT)</td>\n",
        "      <td><b>0.34 (Eco)</b></td>\n",
        "      <td>-0.27 (Modern)</td>\n",
        "    </tr>\n",
        "    <tr>\n",
        "      <td>Agroforestry (AF)</td>\n",
        "      <td><b>0.33 (Eco)</b></td>\n",
        "      <td>-0.28 (Modern)</td>\n",
        "    </tr>\n",
        "  </tbody>\n",
        "</table>\n",
        "\n",
        "<h3>Researchers Table</h3>\n",
        "<table border=\"1\" style=\"border-collapse: collapse; width: 100%;\">\n",
        "  <thead>\n",
        "    <tr style=\"text-align: center; background-color: #f2f2f2;\">\n",
        "      <th>Researcher</th>\n",
        "      <th>Concept 1 (Tech vs. Eco)</th>\n",
        "      <th>Concept 2 (Trad. vs. Modern)</th>\n",
        "      <th>Cluster</th>\n",
        "    </tr>\n",
        "  </thead>\n",
        "  <tbody>\n",
        "    <tr>\n",
        "      <td>R1–R3, R8–R9</td>\n",
        "      <td>Negative (Tech-leaning)</td>\n",
        "      <td>Neutral/Negative</td>\n",
        "      <td style=\"background-color: #e6f3ff;\">Tech Advocates</td>\n",
        "    </tr>\n",
        "    <tr>\n",
        "      <td>R4–R7</td>\n",
        "      <td>Positive (Eco-leaning)</td>\n",
        "      <td>Positive (Traditional)</td>\n",
        "      <td style=\"background-color: #ffe6e6;\">Eco-Traditionalists</td>\n",
        "    </tr>\n",
        "  </tbody>\n",
        "</table>\n",
        "\"\"\"\n",
        "\n",
        "display(HTML(html_output))"
      ],
      "metadata": {
        "colab": {
          "base_uri": "https://localhost:8080/",
          "height": 814
        },
        "id": "XAStVRl5J1mh",
        "outputId": "1641594c-4782-43d6-b5b0-df82284ad280"
      },
      "execution_count": 7,
      "outputs": [
        {
          "output_type": "stream",
          "name": "stdout",
          "text": [
            "TECHNIQUES TABLE:\n",
            "+----------------------------+----------------------------+--------------------------------+\n",
            "| Technique                  | Concept 1 (Tech vs. Eco)   | Concept 2 (Trad. vs. Modern)   |\n",
            "+============================+============================+================================+\n",
            "| Drip Irrigation (DI)       | -0.38 (Tech)               | -0.12 (Neutral)                |\n",
            "+----------------------------+----------------------------+--------------------------------+\n",
            "| Precision Ag (PA)          | -0.41 (Tech)               | -0.09 (Neutral)                |\n",
            "+----------------------------+----------------------------+--------------------------------+\n",
            "| Crop Rotation (CR)         | -0.32 (Mild Tech)          | 0.48 (Traditional)             |\n",
            "+----------------------------+----------------------------+--------------------------------+\n",
            "| Organic Fertilization (OF) | -0.35 (Mild Tech)          | 0.22 (Weak Traditional)        |\n",
            "+----------------------------+----------------------------+--------------------------------+\n",
            "| IPM                        | 0.33 (Eco)                 | -0.28 (Modern)                 |\n",
            "+----------------------------+----------------------------+--------------------------------+\n",
            "| Conservation Tillage (CT)  | 0.34 (Eco)                 | -0.27 (Modern)                 |\n",
            "+----------------------------+----------------------------+--------------------------------+\n",
            "| Agroforestry (AF)          | 0.33 (Eco)                 | -0.28 (Modern)                 |\n",
            "+----------------------------+----------------------------+--------------------------------+\n",
            "\n",
            "\n",
            "RESEARCHERS TABLE:\n",
            "+--------------+----------------------------+--------------------------------+---------------------+\n",
            "| Researcher   | Concept 1 (Tech vs. Eco)   | Concept 2 (Trad. vs. Modern)   | Cluster             |\n",
            "+==============+============================+================================+=====================+\n",
            "| R1–R3, R8–R9 | Negative (Tech-leaning)    | Neutral/Negative               | Tech Advocates      |\n",
            "+--------------+----------------------------+--------------------------------+---------------------+\n",
            "| R4–R7        | Positive (Eco-leaning)     | Positive (Traditional)         | Eco-Traditionalists |\n",
            "+--------------+----------------------------+--------------------------------+---------------------+\n"
          ]
        },
        {
          "output_type": "display_data",
          "data": {
            "text/plain": [
              "<IPython.core.display.HTML object>"
            ],
            "text/html": [
              "\n",
              "<h3>Techniques Table</h3>\n",
              "<table border=\"1\" style=\"border-collapse: collapse; width: 100%; margin-bottom: 20px;\">\n",
              "  <thead>\n",
              "    <tr style=\"text-align: center; background-color: #f2f2f2;\">\n",
              "      <th>Technique</th>\n",
              "      <th>Concept 1 (Tech vs. Eco)</th>\n",
              "      <th>Concept 2 (Trad. vs. Modern)</th>\n",
              "    </tr>\n",
              "  </thead>\n",
              "  <tbody>\n",
              "    <tr>\n",
              "      <td>Drip Irrigation (DI)</td>\n",
              "      <td>-0.38 (Tech)</td>\n",
              "      <td>-0.12 (Neutral)</td>\n",
              "    </tr>\n",
              "    <tr>\n",
              "      <td>Precision Ag (PA)</td>\n",
              "      <td>-0.41 (Tech)</td>\n",
              "      <td>-0.09 (Neutral)</td>\n",
              "    </tr>\n",
              "    <tr>\n",
              "      <td>Crop Rotation (CR)</td>\n",
              "      <td>-0.32 (Mild Tech)</td>\n",
              "      <td><b>0.48 (Traditional)</b></td>\n",
              "    </tr>\n",
              "    <tr>\n",
              "      <td>Organic Fertilization (OF)</td>\n",
              "      <td>-0.35 (Mild Tech)</td>\n",
              "      <td>0.22 (Weak Traditional)</td>\n",
              "    </tr>\n",
              "    <tr>\n",
              "      <td>IPM</td>\n",
              "      <td><b>0.33 (Eco)</b></td>\n",
              "      <td>-0.28 (Modern)</td>\n",
              "    </tr>\n",
              "    <tr>\n",
              "      <td>Conservation Tillage (CT)</td>\n",
              "      <td><b>0.34 (Eco)</b></td>\n",
              "      <td>-0.27 (Modern)</td>\n",
              "    </tr>\n",
              "    <tr>\n",
              "      <td>Agroforestry (AF)</td>\n",
              "      <td><b>0.33 (Eco)</b></td>\n",
              "      <td>-0.28 (Modern)</td>\n",
              "    </tr>\n",
              "  </tbody>\n",
              "</table>\n",
              "\n",
              "<h3>Researchers Table</h3>\n",
              "<table border=\"1\" style=\"border-collapse: collapse; width: 100%;\">\n",
              "  <thead>\n",
              "    <tr style=\"text-align: center; background-color: #f2f2f2;\">\n",
              "      <th>Researcher</th>\n",
              "      <th>Concept 1 (Tech vs. Eco)</th>\n",
              "      <th>Concept 2 (Trad. vs. Modern)</th>\n",
              "      <th>Cluster</th>\n",
              "    </tr>\n",
              "  </thead>\n",
              "  <tbody>\n",
              "    <tr>\n",
              "      <td>R1–R3, R8–R9</td>\n",
              "      <td>Negative (Tech-leaning)</td>\n",
              "      <td>Neutral/Negative</td>\n",
              "      <td style=\"background-color: #e6f3ff;\">Tech Advocates</td>\n",
              "    </tr>\n",
              "    <tr>\n",
              "      <td>R4–R7</td>\n",
              "      <td>Positive (Eco-leaning)</td>\n",
              "      <td>Positive (Traditional)</td>\n",
              "      <td style=\"background-color: #ffe6e6;\">Eco-Traditionalists</td>\n",
              "    </tr>\n",
              "  </tbody>\n",
              "</table>\n"
            ]
          },
          "metadata": {}
        }
      ]
    },
    {
      "cell_type": "markdown",
      "source": [
        "**Behavioral Insights:**\n",
        "\n",
        "* Tech Advocates prioritize DI/PA and disregard ecological techniques.\n",
        "\n",
        "* Eco-Traditionalists favor IPM/CT/AF and traditional methods like CR.\n",
        "\n",
        "* No researchers strongly prefer both tech and traditional approaches.\n",
        "\n"
      ],
      "metadata": {
        "id": "jeEcp7LgJ8Z4"
      }
    }
  ]
}