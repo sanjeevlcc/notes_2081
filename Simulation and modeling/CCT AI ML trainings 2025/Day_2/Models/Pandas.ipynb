{
  "nbformat": 4,
  "nbformat_minor": 0,
  "metadata": {
    "colab": {
      "provenance": []
    },
    "kernelspec": {
      "name": "python3",
      "display_name": "Python 3"
    },
    "language_info": {
      "name": "python"
    }
  },
  "cells": [
    {
      "cell_type": "markdown",
      "source": [
        "**Creating Pandas Series**"
      ],
      "metadata": {
        "id": "MLMyG4Gt6V--"
      }
    },
    {
      "cell_type": "code",
      "execution_count": null,
      "metadata": {
        "colab": {
          "base_uri": "https://localhost:8080/"
        },
        "id": "a0v4mVbj5kJr",
        "outputId": "99c8a141-fc53-4bb9-c43d-cbe17adc80a9"
      },
      "outputs": [
        {
          "output_type": "stream",
          "name": "stdout",
          "text": [
            "Name      Steve\n",
            "Age          35\n",
            "Gender     Male\n",
            "Rating      3.5\n",
            "dtype: object\n"
          ]
        }
      ],
      "source": [
        "import pandas as pd\n",
        "\n",
        "data = ['Steve', '35', 'Male', '3.5']\n",
        "series = pd.Series(data, index=['Name', 'Age', 'Gender', 'Rating'])\n",
        "print(series)"
      ]
    },
    {
      "cell_type": "markdown",
      "source": [
        "**Creating Simple DataFrame**"
      ],
      "metadata": {
        "id": "VSy41xvZ6hpw"
      }
    },
    {
      "cell_type": "code",
      "source": [
        "import pandas as pd\n",
        "\n",
        "# Data represented as a dictionary\n",
        "data = {\n",
        "    'Name': ['Steve', 'Lia', 'Vin', 'Katie'],\n",
        "    'Age': [32, 28, 45, 38],\n",
        "    'Gender': ['Male', 'Female', 'Male', 'Female'],\n",
        "    'Rating': [3.45, 4.6, 3.9, 2.78]\n",
        "}\n",
        "\n",
        "# Creating the DataFrame\n",
        "df = pd.DataFrame(data)\n",
        "\n",
        "# Display the DataFrame\n",
        "print(df)"
      ],
      "metadata": {
        "colab": {
          "base_uri": "https://localhost:8080/"
        },
        "id": "2vjIx5H57GUN",
        "outputId": "44aec4e0-b451-4530-8985-0b554b95163e"
      },
      "execution_count": null,
      "outputs": [
        {
          "output_type": "stream",
          "name": "stdout",
          "text": [
            "    Name  Age  Gender  Rating\n",
            "0  Steve   32    Male    3.45\n",
            "1    Lia   28  Female    4.60\n",
            "2    Vin   45    Male    3.90\n",
            "3  Katie   38  Female    2.78\n"
          ]
        }
      ]
    },
    {
      "cell_type": "code",
      "source": [
        "import pandas as pd\n",
        "\n",
        "# Data represented as a dictionary\n",
        "data = {\n",
        "    'Name': ['Steve', 'Lia', 'Vin', 'Katie'],\n",
        "    'Age': [32, 28, 45, 38],\n",
        "    'Gender': ['Male', 'Female', 'Male', 'Female'],\n",
        "    'Rating': [3.45, 4.6, 3.9, 2.78]\n",
        "}\n",
        "\n",
        "# Creating the DataFrame\n",
        "df = pd.DataFrame(data)\n",
        "\n",
        "# Display a Series within a DataFrame\n",
        "print(df['Name'])"
      ],
      "metadata": {
        "colab": {
          "base_uri": "https://localhost:8080/"
        },
        "id": "9vW34gJD7Gcl",
        "outputId": "1cb287c1-4a1c-4800-acac-a4f174fb12d8"
      },
      "execution_count": null,
      "outputs": [
        {
          "output_type": "stream",
          "name": "stdout",
          "text": [
            "0    Steve\n",
            "1      Lia\n",
            "2      Vin\n",
            "3    Katie\n",
            "Name: Name, dtype: object\n"
          ]
        }
      ]
    },
    {
      "cell_type": "markdown",
      "source": [
        "**Pandas Series**"
      ],
      "metadata": {
        "id": "-CYixrtfIMAD"
      }
    },
    {
      "cell_type": "code",
      "source": [
        "#import the pandas library and aliasing as pd\n",
        "import pandas as pd\n",
        "import numpy as np\n",
        "data = np.array(['a','b','c','d'])\n",
        "s = pd.Series(data,index=[100,101,102,103])\n",
        "print(\"Output:\\n\",s)"
      ],
      "metadata": {
        "colab": {
          "base_uri": "https://localhost:8080/"
        },
        "id": "UNZY5YtmFwYC",
        "outputId": "012f17ee-f79b-4b7a-cb38-2812ce687e65"
      },
      "execution_count": null,
      "outputs": [
        {
          "output_type": "stream",
          "name": "stdout",
          "text": [
            "Output:\n",
            " 100    a\n",
            "101    b\n",
            "102    c\n",
            "103    d\n",
            "dtype: object\n"
          ]
        }
      ]
    },
    {
      "cell_type": "code",
      "source": [
        "#import the pandas library and aliasing as pd\n",
        "import pandas as pd\n",
        "import numpy as np\n",
        "data = {'a' : 0., 'b' : 1., 'c' : 2.}\n",
        "s = pd.Series(data)\n",
        "print(s)"
      ],
      "metadata": {
        "colab": {
          "base_uri": "https://localhost:8080/"
        },
        "id": "SJ5R1KRRF6UB",
        "outputId": "3f611ced-09e1-4d87-cc1c-660daff500ad"
      },
      "execution_count": null,
      "outputs": [
        {
          "output_type": "stream",
          "name": "stdout",
          "text": [
            "a    0.0\n",
            "b    1.0\n",
            "c    2.0\n",
            "dtype: float64\n"
          ]
        }
      ]
    },
    {
      "cell_type": "markdown",
      "source": [
        "**Series Slicing**"
      ],
      "metadata": {
        "id": "bMQl9gq6IYqi"
      }
    },
    {
      "cell_type": "code",
      "source": [
        "import pandas as pd\n",
        "s = pd.Series([1,2,3,4,5],index = ['a','b','c','d','e'])\n",
        "\n",
        "#retrieve the first three element\n",
        "print(s[:3])\n",
        "#retrieve the last three element\n",
        "print(s[-3:])\n",
        "# Slice multiple elements\n",
        "print(s['a':'d'])"
      ],
      "metadata": {
        "colab": {
          "base_uri": "https://localhost:8080/"
        },
        "id": "Dbty0R_OGEik",
        "outputId": "932fbc34-7f50-4e7b-d876-e992aa9facbb"
      },
      "execution_count": null,
      "outputs": [
        {
          "output_type": "stream",
          "name": "stdout",
          "text": [
            "a    1\n",
            "b    2\n",
            "c    3\n",
            "dtype: int64\n",
            "c    3\n",
            "d    4\n",
            "e    5\n",
            "dtype: int64\n",
            "a    1\n",
            "b    2\n",
            "c    3\n",
            "d    4\n",
            "dtype: int64\n"
          ]
        }
      ]
    },
    {
      "cell_type": "markdown",
      "source": [
        "**Modifying Values after Slicing**"
      ],
      "metadata": {
        "id": "OwC9c5BxIhdU"
      }
    },
    {
      "cell_type": "code",
      "source": [
        "import pandas as pd\n",
        "s = pd.Series([1,2,3,4,5])\n",
        "\n",
        "# Display the original series\n",
        "print(\"Original Series:\\n\",s)\n",
        "\n",
        "# Modify the values of first two elements\n",
        "s[:2] = [100, 200]\n",
        "\n",
        "print(\"Series after modifying the first two elements:\",s)"
      ],
      "metadata": {
        "colab": {
          "base_uri": "https://localhost:8080/"
        },
        "id": "Ylfz0e10GLPx",
        "outputId": "34e0822f-e542-4cdc-a965-f24f620acd7b"
      },
      "execution_count": null,
      "outputs": [
        {
          "output_type": "stream",
          "name": "stdout",
          "text": [
            "Original Series:\n",
            " 0    1\n",
            "1    2\n",
            "2    3\n",
            "3    4\n",
            "4    5\n",
            "dtype: int64\n",
            "Series after modifying the first two elements: 0    100\n",
            "1    200\n",
            "2      3\n",
            "3      4\n",
            "4      5\n",
            "dtype: int64\n"
          ]
        }
      ]
    },
    {
      "cell_type": "markdown",
      "source": [
        "**Converting Series to other objects**"
      ],
      "metadata": {
        "id": "666PO6vcJGCk"
      }
    },
    {
      "cell_type": "code",
      "source": [
        "import pandas as pd\n",
        "\n",
        "# Create a Pandas Series\n",
        "s = pd.Series([1, 2, 3])\n",
        "\n",
        "# Convert Series to a Python list\n",
        "result = s.to_list()\n",
        "\n",
        "print(\"Output:\",result)\n",
        "print(\"Output Type:\", type(result))\n",
        "\n",
        "# Convert Series to a NumPy Array\n",
        "result = s.to_numpy()\n",
        "\n",
        "print(\"Output:\",result)\n",
        "print(\"Output Type:\", type(result))"
      ],
      "metadata": {
        "colab": {
          "base_uri": "https://localhost:8080/"
        },
        "id": "WmUArh4mGT_V",
        "outputId": "f830e321-f052-4a26-c4d2-155c40871a24"
      },
      "execution_count": null,
      "outputs": [
        {
          "output_type": "stream",
          "name": "stdout",
          "text": [
            "Output: [1, 2, 3]\n",
            "Output Type: <class 'list'>\n",
            "Output: [1 2 3]\n",
            "Output Type: <class 'numpy.ndarray'>\n"
          ]
        }
      ]
    },
    {
      "cell_type": "code",
      "source": [
        "import pandas as pd\n",
        "\n",
        "# Create a Pandas Series\n",
        "s = pd.Series([1, 2, 3], index=['a', 'b', 'c'])\n",
        "\n",
        "# Convert Series to a Python dictionary\n",
        "result = s.to_dict()\n",
        "\n",
        "print(\"Output:\",result)\n",
        "print(\"Output Type:\", type(result))"
      ],
      "metadata": {
        "colab": {
          "base_uri": "https://localhost:8080/"
        },
        "id": "4L292bRTHcwU",
        "outputId": "f2c83872-d624-4dc1-b064-33464bf33bcb"
      },
      "execution_count": null,
      "outputs": [
        {
          "output_type": "stream",
          "name": "stdout",
          "text": [
            "Output: {'a': 1, 'b': 2, 'c': 3}\n",
            "Output Type: <class 'dict'>\n"
          ]
        }
      ]
    },
    {
      "cell_type": "markdown",
      "source": [
        "**Arithmetic operations between two Series**"
      ],
      "metadata": {
        "id": "KHJAe2HjI2s6"
      }
    },
    {
      "cell_type": "code",
      "source": [
        "import pandas as pd\n",
        "\n",
        "# Create Series s1 with indexes: a, b, c, d, e\n",
        "s1 = pd.Series([1, 2, 3, 4, 5], index=['a', 'b', 'c', 'd', 'e'])\n",
        "\n",
        "# Create Series s2 with indexes: x, a, b, c\n",
        "s2 = pd.Series([9, 8, 6, 5], index=['x', 'a', 'b', 'c'])\n",
        "\n",
        "# Arithmetic operations\n",
        "print('\\nAddition:\\n', s1 + s2)\n",
        "print('\\nSubtraction:\\n', s1 - s2)\n",
        "print('\\nMultiplication:\\n', s1 * s2)\n",
        "print('\\nDivision:\\n', s1 / s2)"
      ],
      "metadata": {
        "colab": {
          "base_uri": "https://localhost:8080/"
        },
        "id": "VZS76w8IHTGJ",
        "outputId": "2fd743da-8c84-490c-d9d9-5eaccd72c506"
      },
      "execution_count": null,
      "outputs": [
        {
          "output_type": "stream",
          "name": "stdout",
          "text": [
            "\n",
            "Addition:\n",
            " a    9.0\n",
            "b    8.0\n",
            "c    8.0\n",
            "d    NaN\n",
            "e    NaN\n",
            "x    NaN\n",
            "dtype: float64\n",
            "\n",
            "Subtraction:\n",
            " a   -7.0\n",
            "b   -4.0\n",
            "c   -2.0\n",
            "d    NaN\n",
            "e    NaN\n",
            "x    NaN\n",
            "dtype: float64\n",
            "\n",
            "Multiplication:\n",
            " a     8.0\n",
            "b    12.0\n",
            "c    15.0\n",
            "d     NaN\n",
            "e     NaN\n",
            "x     NaN\n",
            "dtype: float64\n",
            "\n",
            "Division:\n",
            " a    0.125000\n",
            "b    0.333333\n",
            "c    0.600000\n",
            "d         NaN\n",
            "e         NaN\n",
            "x         NaN\n",
            "dtype: float64\n"
          ]
        }
      ]
    },
    {
      "cell_type": "markdown",
      "source": [
        "**Creating Pandas DataFrame**"
      ],
      "metadata": {
        "id": "ico9UgYVJxB2"
      }
    },
    {
      "cell_type": "code",
      "source": [
        "import pandas as pd\n",
        "data = [['Alex',10],['Bob',12],['Clarke',13]]\n",
        "df = pd.DataFrame(data,columns=['Name','Age'])\n",
        "print(df)"
      ],
      "metadata": {
        "colab": {
          "base_uri": "https://localhost:8080/"
        },
        "id": "r0QJTyHgJur7",
        "outputId": "1caf887a-9ead-45ec-c4f9-9a8aafd487f8"
      },
      "execution_count": null,
      "outputs": [
        {
          "output_type": "stream",
          "name": "stdout",
          "text": [
            "     Name  Age\n",
            "0    Alex   10\n",
            "1     Bob   12\n",
            "2  Clarke   13\n"
          ]
        }
      ]
    },
    {
      "cell_type": "code",
      "source": [
        "import pandas as pd\n",
        "data = {'Name':['Tom', 'Jack', 'Steve', 'Ricky'],'Age':[28,34,29,42]}\n",
        "df = pd.DataFrame(data)\n",
        "print(df)"
      ],
      "metadata": {
        "colab": {
          "base_uri": "https://localhost:8080/"
        },
        "id": "UAwDUEY1KMSt",
        "outputId": "4eec5543-9cd0-4e0f-9f4c-e108ced14b4e"
      },
      "execution_count": null,
      "outputs": [
        {
          "output_type": "stream",
          "name": "stdout",
          "text": [
            "    Name  Age\n",
            "0    Tom   28\n",
            "1   Jack   34\n",
            "2  Steve   29\n",
            "3  Ricky   42\n"
          ]
        }
      ]
    },
    {
      "cell_type": "code",
      "source": [
        "import pandas as pd\n",
        "\n",
        "d = {'one' : pd.Series([1, 2, 3], index=['a', 'b', 'c']),\n",
        "   'two' : pd.Series([1, 2, 3, 4], index=['a', 'b', 'c', 'd'])}\n",
        "\n",
        "df = pd.DataFrame(d)\n",
        "print(df)"
      ],
      "metadata": {
        "colab": {
          "base_uri": "https://localhost:8080/"
        },
        "id": "kI9UzjN6H3gw",
        "outputId": "103425a7-b323-425d-d292-918075d6ae04"
      },
      "execution_count": null,
      "outputs": [
        {
          "output_type": "stream",
          "name": "stdout",
          "text": [
            "   one  two\n",
            "a  1.0    1\n",
            "b  2.0    2\n",
            "c  3.0    3\n",
            "d  NaN    4\n"
          ]
        }
      ]
    },
    {
      "cell_type": "markdown",
      "source": [
        "**Label-Based Indexing with .loc**"
      ],
      "metadata": {
        "id": "YPb16vvaNaHU"
      }
    },
    {
      "cell_type": "code",
      "source": [
        "import pandas as pd\n",
        "import numpy as np\n",
        "\n",
        "df = pd.DataFrame(np.random.randn(8, 4), # Create a DataFrame 'df' with random numbers (8 rows and 4 columns)\n",
        "                  index=['a', 'b', 'c', 'd', 'e', 'f', 'g', 'h'], # Rows are labeled with custom index ['a' to 'h']\n",
        "                  columns=['A', 'B', 'C', 'D']) # Columns are named 'A', 'B', 'C', and 'D'\n",
        "\n",
        "# Display the original DataFrame\n",
        "print(\"Original DataFrame:\\n\", df)\n",
        "\n",
        "# .loc is used for label-based indexing (row and column labels)\n",
        "print('\\nResult:\\n', df.loc[:, 'A'])  # ':' means all rows, 'A' specifies the column\n"
      ],
      "metadata": {
        "colab": {
          "base_uri": "https://localhost:8080/"
        },
        "id": "1QJFdIbF7Gdx",
        "outputId": "41c15142-5a94-4199-e396-120bc8b96978"
      },
      "execution_count": null,
      "outputs": [
        {
          "output_type": "stream",
          "name": "stdout",
          "text": [
            "Original DataFrame:\n",
            "           A         B         C         D\n",
            "a -0.090608  0.072678  1.506535 -0.993647\n",
            "b  0.758503  0.070799 -0.094593 -0.872920\n",
            "c -0.216746  0.394235  2.939156 -1.737788\n",
            "d  1.233330 -1.036672  0.583306  0.519301\n",
            "e -1.705275  0.155426  1.431306 -0.014671\n",
            "f  2.205250  0.463624 -1.417899 -1.536805\n",
            "g -1.127973 -1.531993 -0.731792 -0.434562\n",
            "h -1.228793  1.231154 -0.567553 -0.134365\n",
            "\n",
            "Result:\n",
            " a   -0.090608\n",
            "b    0.758503\n",
            "c   -0.216746\n",
            "d    1.233330\n",
            "e   -1.705275\n",
            "f    2.205250\n",
            "g   -1.127973\n",
            "h   -1.228793\n",
            "Name: A, dtype: float64\n"
          ]
        }
      ]
    },
    {
      "cell_type": "code",
      "source": [
        "import pandas as pd\n",
        "import numpy as np\n",
        "\n",
        "df = pd.DataFrame(np.random.randn(8, 4),\n",
        "index = ['a','b','c','d','e','f','g','h'], columns = ['A', 'B', 'C', 'D'])\n",
        "\n",
        "# Select few rows for multiple columns, say list[]\n",
        "print(df.loc[['a','b','f','h'],['A','C']])"
      ],
      "metadata": {
        "colab": {
          "base_uri": "https://localhost:8080/"
        },
        "id": "5eFXJFMoNBBK",
        "outputId": "55d8eebe-0382-4582-aef1-da02c439bf7a"
      },
      "execution_count": null,
      "outputs": [
        {
          "output_type": "stream",
          "name": "stdout",
          "text": [
            "          A         C\n",
            "a -0.743335  0.358730\n",
            "b  0.902213 -0.447809\n",
            "f -0.253850 -1.795058\n",
            "h -0.597445  0.137873\n"
          ]
        }
      ]
    },
    {
      "cell_type": "markdown",
      "source": [
        "**Integer Position-Based Indexing with .iloc**"
      ],
      "metadata": {
        "id": "O3YVSzhjPauy"
      }
    },
    {
      "cell_type": "code",
      "source": [
        "import pandas as pd\n",
        "import numpy as np\n",
        "\n",
        "df = pd.DataFrame(np.random.randn(8, 4), columns = ['A', 'B', 'C', 'D'])\n",
        "\n",
        "print(\"Original DataFrame:\\n\", df)\n",
        "\n",
        "# select all rows for a specific column\n",
        "print('\\nResult:\\n',df.iloc[:4])"
      ],
      "metadata": {
        "colab": {
          "base_uri": "https://localhost:8080/"
        },
        "id": "FkDQFHFVPGlP",
        "outputId": "a2d00e45-e08d-4407-9d60-f4a3d10a0d45"
      },
      "execution_count": null,
      "outputs": [
        {
          "output_type": "stream",
          "name": "stdout",
          "text": [
            "Original DataFrame:\n",
            "           A         B         C         D\n",
            "0  0.095874 -0.993600 -0.690025  1.403570\n",
            "1 -1.071942  0.630795 -2.255658 -0.782670\n",
            "2  1.189937 -0.103614 -0.289287 -0.203541\n",
            "3 -0.783170 -0.172301  0.521611 -0.535989\n",
            "4 -1.442989  1.296939 -1.225757  1.994669\n",
            "5 -0.941695 -0.490993 -0.620028 -0.977928\n",
            "6 -1.036550  0.700464 -0.820962  0.183185\n",
            "7  0.366967  0.696571  0.256713 -0.893327\n",
            "\n",
            "Result:\n",
            "           A         B         C         D\n",
            "0  0.095874 -0.993600 -0.690025  1.403570\n",
            "1 -1.071942  0.630795 -2.255658 -0.782670\n",
            "2  1.189937 -0.103614 -0.289287 -0.203541\n",
            "3 -0.783170 -0.172301  0.521611 -0.535989\n"
          ]
        }
      ]
    },
    {
      "cell_type": "code",
      "source": [
        "import pandas as pd\n",
        "import numpy as np\n",
        "\n",
        "df = pd.DataFrame(np.random.randn(8, 4), columns = ['A', 'B', 'C', 'D'])\n",
        "\n",
        "# Integer slicing\n",
        "print(df.iloc[1:5, 2:4])\n",
        "print(df.iloc[[1, 3, 5], [1, 3]])"
      ],
      "metadata": {
        "colab": {
          "base_uri": "https://localhost:8080/"
        },
        "id": "lBdNrL2QPGmi",
        "outputId": "0f6a6b3a-a8ab-4cb2-d16f-c14e75087169"
      },
      "execution_count": null,
      "outputs": [
        {
          "output_type": "stream",
          "name": "stdout",
          "text": [
            "          C         D\n",
            "1  0.491485 -0.656520\n",
            "2  0.115554  0.593020\n",
            "3  0.513944 -1.046037\n",
            "4 -1.614940  0.163669\n",
            "          B         D\n",
            "1 -0.560321 -0.656520\n",
            "3 -0.466191 -1.046037\n",
            "5 -1.172950  0.355877\n"
          ]
        }
      ]
    },
    {
      "cell_type": "code",
      "source": [
        "import pandas as pd\n",
        "\n",
        "data = {'A': [1, 2, 3], 'B': [4, 5, 6], 'C': [7, 8, 9]}\n",
        "df = pd.DataFrame(data)\n",
        "\n",
        "# Slice a single column\n",
        "col_A = df.iloc[:, 0]\n",
        "print(\"Slicing a single column A using iloc[]:\")\n",
        "print(col_A)\n",
        "\n",
        "# Slice multiple columns\n",
        "cols_AB = df.iloc[:, 0:2]\n",
        "print(\"Slicing multiple columns A and B using iloc[]:\")\n",
        "print(cols_AB)"
      ],
      "metadata": {
        "colab": {
          "base_uri": "https://localhost:8080/"
        },
        "id": "qlGQj5c2RYe2",
        "outputId": "d66d8755-6bb2-4fdd-abcf-952121f80b1d"
      },
      "execution_count": null,
      "outputs": [
        {
          "output_type": "stream",
          "name": "stdout",
          "text": [
            "Slicing a single column A using iloc[]:\n",
            "0    1\n",
            "1    2\n",
            "2    3\n",
            "Name: A, dtype: int64\n",
            "Slicing multiple columns A and B using iloc[]:\n",
            "   A  B\n",
            "0  1  4\n",
            "1  2  5\n",
            "2  3  6\n"
          ]
        }
      ]
    },
    {
      "cell_type": "markdown",
      "source": [
        "**Indexing with Brackets**"
      ],
      "metadata": {
        "id": "53AohIlQQDtF"
      }
    },
    {
      "cell_type": "code",
      "source": [
        "import pandas as pd\n",
        "import numpy as np\n",
        "\n",
        "df = pd.DataFrame(np.random.randn(8, 4), columns = ['A', 'B', 'C', 'D'])\n",
        "\n",
        "# Accessing Multiple Columns\n",
        "print(df['A'])\n",
        "print(df[['A', 'B']])"
      ],
      "metadata": {
        "colab": {
          "base_uri": "https://localhost:8080/"
        },
        "id": "ltqGsqIBPGq6",
        "outputId": "b39e68fb-e248-4cb2-a398-1565c36d7759"
      },
      "execution_count": null,
      "outputs": [
        {
          "output_type": "stream",
          "name": "stdout",
          "text": [
            "0   -2.376217\n",
            "1   -0.914106\n",
            "2    0.131745\n",
            "3    0.399043\n",
            "4    0.625874\n",
            "5   -0.013148\n",
            "6    1.739137\n",
            "7    1.783914\n",
            "Name: A, dtype: float64\n",
            "          A         B\n",
            "0 -2.376217  2.646317\n",
            "1 -0.914106  2.124020\n",
            "2  0.131745 -0.590083\n",
            "3  0.399043 -0.367624\n",
            "4  0.625874  0.329894\n",
            "5 -0.013148  0.040176\n",
            "6  1.739137  0.508661\n",
            "7  1.783914 -0.556763\n"
          ]
        }
      ]
    },
    {
      "cell_type": "code",
      "source": [
        "import pandas as pd\n",
        "import numpy as np\n",
        "\n",
        "df = pd.DataFrame(np.random.randn(8, 4), columns = ['A', 'B', 'C', 'D'])\n",
        "\n",
        "# Accessing Rows\n",
        "print(df[:1])"
      ],
      "metadata": {
        "colab": {
          "base_uri": "https://localhost:8080/"
        },
        "id": "pg4GWhrEUjc_",
        "outputId": "f9c5ed67-dca7-42c3-d896-4cf399770307"
      },
      "execution_count": null,
      "outputs": [
        {
          "output_type": "stream",
          "name": "stdout",
          "text": [
            "          A         B         C         D\n",
            "0  0.393932 -1.029468 -1.980494  0.427398\n"
          ]
        }
      ]
    },
    {
      "cell_type": "markdown",
      "source": [
        "**Modifying Values After Slicing**"
      ],
      "metadata": {
        "id": "7zEKZy0kRoKB"
      }
    },
    {
      "cell_type": "code",
      "source": [
        "import pandas as pd\n",
        "\n",
        "# Create a DataFrame\n",
        "df = pd.DataFrame([['a', 'b'], ['c', 'd'], ['e', 'f'], ['g', 'h']],\n",
        "                  columns=['col1', 'col2'])\n",
        "\n",
        "# Display the Original DataFrame\n",
        "print(\"Original DataFrame:\", df, sep='\\n')\n",
        "\n",
        "# Modify a subset of the DataFrame using iloc\n",
        "df.iloc[1:3, 0] = ['x', 'y']\n",
        "\n",
        "# Display the modified DataFrame\n",
        "print('Modified DataFrame:',df, sep='\\n')"
      ],
      "metadata": {
        "colab": {
          "base_uri": "https://localhost:8080/"
        },
        "id": "hnuQi1wsZkn6",
        "outputId": "d01af869-79d7-4267-8e6a-df11bdb409dd"
      },
      "execution_count": null,
      "outputs": [
        {
          "output_type": "stream",
          "name": "stdout",
          "text": [
            "Original DataFrame:\n",
            "  col1 col2\n",
            "0    a    b\n",
            "1    c    d\n",
            "2    e    f\n",
            "3    g    h\n",
            "Modified DataFrame:\n",
            "  col1 col2\n",
            "0    a    b\n",
            "1    x    d\n",
            "2    y    f\n",
            "3    g    h\n"
          ]
        }
      ]
    },
    {
      "cell_type": "code",
      "source": [
        "import pandas as pd\n",
        "\n",
        "# Create a DataFrame\n",
        "df = pd.DataFrame([['a', 'b'], ['c', 'd'], ['e', 'f'], ['g', 'h']],\n",
        "                  columns=['col1', 'col2'])\n",
        "\n",
        "# Display the Original DataFrame\n",
        "print(\"Original DataFrame:\", df, sep='\\n')\n",
        "\n",
        "# Modify a subset of the DataFrame using iloc\n",
        "df.iloc[1:3, 0:2] = [['x', 'y'], ['z', 'A']]\n",
        "\n",
        "# Display the modified DataFrame\n",
        "print('Modified DataFrame:',df, sep='\\n')"
      ],
      "metadata": {
        "colab": {
          "base_uri": "https://localhost:8080/"
        },
        "id": "GrTyU9d4XyPJ",
        "outputId": "ec76a978-74ba-4f25-cc45-5be7d003d053"
      },
      "execution_count": null,
      "outputs": [
        {
          "output_type": "stream",
          "name": "stdout",
          "text": [
            "Original DataFrame:\n",
            "  col1 col2\n",
            "0    a    b\n",
            "1    c    d\n",
            "2    e    f\n",
            "3    g    h\n",
            "Modified DataFrame:\n",
            "  col1 col2\n",
            "0    a    b\n",
            "1    x    y\n",
            "2    z    A\n",
            "3    g    h\n"
          ]
        }
      ]
    },
    {
      "cell_type": "markdown",
      "source": [
        "**Renaming Column/Rows Labels in a DataFrame**"
      ],
      "metadata": {
        "id": "tS89XmNQSKv5"
      }
    },
    {
      "cell_type": "code",
      "source": [
        "import pandas as pd\n",
        "\n",
        "# Create a DataFrame\n",
        "df = pd.DataFrame({'A': [1, 2, 3],'B': [4, 5, 6]})\n",
        "\n",
        "# Rename column 'A' to 'aa'\n",
        "df = df.rename(columns={'A': 'aa'})\n",
        "\n",
        "# Display modified DataFrame\n",
        "print(\"Modified DataFrame:\")\n",
        "print(df)\n",
        "\n",
        "# Rename the multiple row labels\n",
        "df = df.rename(index={ 0: 'r1', 1:'r2', 2:'r3'})\n",
        "\n",
        "# Display modified DataFrame\n",
        "print(\"Modified DataFrame:\")\n",
        "print(df)"
      ],
      "metadata": {
        "colab": {
          "base_uri": "https://localhost:8080/"
        },
        "id": "DWcVRCaqXyXP",
        "outputId": "fd7d7262-9a79-4ed4-ddcd-2ca55195efd5"
      },
      "execution_count": null,
      "outputs": [
        {
          "output_type": "stream",
          "name": "stdout",
          "text": [
            "Modified DataFrame:\n",
            "   aa  B\n",
            "0   1  4\n",
            "1   2  5\n",
            "2   3  6\n",
            "Modified DataFrame:\n",
            "    aa  B\n",
            "r1   1  4\n",
            "r2   2  5\n",
            "r3   3  6\n"
          ]
        }
      ]
    },
    {
      "cell_type": "markdown",
      "source": [
        "**Adding or inserting new columns**"
      ],
      "metadata": {
        "id": "8vGg7qfjTcRM"
      }
    },
    {
      "cell_type": "code",
      "source": [
        "import pandas as pd\n",
        "\n",
        "# Create a DataFrame\n",
        "df = pd.DataFrame({'A': [1, 2, 3],'B': [4, 5, 6]})\n",
        "\n",
        "# Add a new column 'C' with values\n",
        "df['C'] = [7, 8, 9]\n",
        "\n",
        "# Display updated DataFrame\n",
        "print(\"DataFrame after adding a new column 'C':\")\n",
        "print(df)\n",
        "\n",
        "# Insert a new column 'D' at position 1\n",
        "df.insert(1, 'D', [10, 11, 12])\n",
        "\n",
        "# Display updated DataFrame\n",
        "print(\"DataFrame after inserting column 'D' at position 1:\")\n",
        "print(df)"
      ],
      "metadata": {
        "colab": {
          "base_uri": "https://localhost:8080/"
        },
        "id": "_2Gy1EQMqt9J",
        "outputId": "f576f23a-9faf-4662-f9ef-8307c55d83f8"
      },
      "execution_count": null,
      "outputs": [
        {
          "output_type": "stream",
          "name": "stdout",
          "text": [
            "DataFrame after adding a new column 'C':\n",
            "   A  B  C\n",
            "0  1  4  7\n",
            "1  2  5  8\n",
            "2  3  6  9\n",
            "DataFrame after inserting column 'D' at position 1:\n",
            "   A   D  B  C\n",
            "0  1  10  4  7\n",
            "1  2  11  5  8\n",
            "2  3  12  6  9\n"
          ]
        }
      ]
    },
    {
      "cell_type": "markdown",
      "source": [
        "**Replacing the Contents of a DataFrame**"
      ],
      "metadata": {
        "id": "tgqCMkSbTk0z"
      }
    },
    {
      "cell_type": "code",
      "source": [
        "import pandas as pd\n",
        "\n",
        "# Create a DataFrame\n",
        "df = pd.DataFrame({'A': [1, 2, 3],'B': [4, 5, 6],'c':[7, 8, 9]})\n",
        "\n",
        "# Replace the contents of column 'A' with new values\n",
        "df['A'] = [10, 20, 30]\n",
        "\n",
        "# Display updated DataFrame\n",
        "print(\"DataFrame after replacing column 'A':\")\n",
        "print(df)\n",
        "\n",
        "# Replace the contents\n",
        "df.replace({'A': {1: 100}, 'B': {6: 200}, 'c':{7:1000}}, inplace=True)\n",
        "#df.replace({'A': 1, 'B': 6}, 100, inplace=True)\n",
        "\n",
        "# Display updated DataFrame\n",
        "print(\"DataFrame after replacement:\")\n",
        "print(df)"
      ],
      "metadata": {
        "colab": {
          "base_uri": "https://localhost:8080/"
        },
        "id": "tePx5ZXqqt-w",
        "outputId": "d1103261-ef6c-4a24-ca5e-129e150318d2"
      },
      "execution_count": null,
      "outputs": [
        {
          "output_type": "stream",
          "name": "stdout",
          "text": [
            "DataFrame after replacing column 'A':\n",
            "    A  B  c\n",
            "0  10  4  7\n",
            "1  20  5  8\n",
            "2  30  6  9\n",
            "DataFrame after replacement:\n",
            "    A    B     c\n",
            "0  10    4  1000\n",
            "1  20    5     8\n",
            "2  30  200     9\n"
          ]
        }
      ]
    },
    {
      "cell_type": "markdown",
      "source": [
        "**Deleting/Dropping Columns**"
      ],
      "metadata": {
        "id": "j4BTj1ktUxmm"
      }
    },
    {
      "cell_type": "code",
      "source": [
        "import pandas as pd\n",
        "\n",
        "# Create a DataFrame\n",
        "df = pd.DataFrame({'A': [1, 2, 3],'B': [4, 5, 6],'C': [7, 8, 9]})\n",
        "\n",
        "# Display the original DataFrame\n",
        "print(\"Original DataFrame:\", df, sep='\\n')\n",
        "\n",
        "# Delete columns 'A' and 'B'\n",
        "df = df.drop(columns=['A', 'B'])\n",
        "\n",
        "# Display updated DataFrame\n",
        "print(\"DataFrame after deleting columns 'A' and 'B':\")\n",
        "print(df)"
      ],
      "metadata": {
        "colab": {
          "base_uri": "https://localhost:8080/"
        },
        "id": "Suta5t6QUjkQ",
        "outputId": "386b2c07-ee4e-4e96-bb04-3e791ea9bcf6"
      },
      "execution_count": null,
      "outputs": [
        {
          "output_type": "stream",
          "name": "stdout",
          "text": [
            "Original DataFrame:\n",
            "   A  B  C\n",
            "0  1  4  7\n",
            "1  2  5  8\n",
            "2  3  6  9\n",
            "DataFrame after deleting columns 'A' and 'B':\n",
            "   C\n",
            "0  7\n",
            "1  8\n",
            "2  9\n"
          ]
        }
      ]
    },
    {
      "cell_type": "markdown",
      "source": [
        "**Removing Rows from a DataFrame**"
      ],
      "metadata": {
        "id": "z_NxwmCgVPQV"
      }
    },
    {
      "cell_type": "markdown",
      "source": [
        "**Dropping DataFrame Rows by Index Values**"
      ],
      "metadata": {
        "id": "4dPByXt7VJIL"
      }
    },
    {
      "cell_type": "code",
      "source": [
        "import pandas as pd\n",
        "\n",
        "# Create a DataFrame\n",
        "df = pd.DataFrame({'A': [1, 2, 3, 4, 5],'B': [4, 5, 6, 7, 8]})\n",
        "\n",
        "# Display original DataFrame\n",
        "print(\"Original DataFrame:\")\n",
        "print(df)\n",
        "\n",
        "# Drop the row with index 3\n",
        "result = df.drop(3)\n",
        "\n",
        "# Display the result\n",
        "print(\"\\nAfter dropping the row at index 3:\")\n",
        "print(result)"
      ],
      "metadata": {
        "colab": {
          "base_uri": "https://localhost:8080/"
        },
        "id": "F0KU0Xna4GTp",
        "outputId": "b7cdcd76-17a9-41b7-80be-c9389b22c916"
      },
      "execution_count": null,
      "outputs": [
        {
          "output_type": "stream",
          "name": "stdout",
          "text": [
            "Original DataFrame:\n",
            "   A  B\n",
            "0  1  4\n",
            "1  2  5\n",
            "2  3  6\n",
            "3  4  7\n",
            "4  5  8\n",
            "\n",
            "After dropping the row at index 3:\n",
            "   A  B\n",
            "0  1  4\n",
            "1  2  5\n",
            "2  3  6\n",
            "4  5  8\n"
          ]
        }
      ]
    },
    {
      "cell_type": "markdown",
      "source": [
        "**Dropping Multiple Rows by Labels**"
      ],
      "metadata": {
        "id": "PjrEn6vNVp1P"
      }
    },
    {
      "cell_type": "code",
      "source": [
        "import pandas as pd\n",
        "\n",
        "# Create a DataFrame\n",
        "df = pd.DataFrame({'A': [1, 2, 3, 4, 5],'B': [4, 5, 6, 7, 8],\n",
        "'C': [9, 10, 11, 12, 13]}, index=['r1', 'r2', 'r3', 'r4', 'r5'])\n",
        "\n",
        "# Display original DataFrame\n",
        "print(\"Original DataFrame:\")\n",
        "print(df)\n",
        "\n",
        "# Drop the rows by row-labels\n",
        "result = df.drop(['r1', 'r3'])\n",
        "\n",
        "# Display the result\n",
        "print(\"\\nAfter dropping the rows:\")\n",
        "print(result)"
      ],
      "metadata": {
        "colab": {
          "base_uri": "https://localhost:8080/"
        },
        "id": "r_7SZgz64Gb4",
        "outputId": "5e2767c5-5c81-4e7d-9298-60fba0ff84b1"
      },
      "execution_count": null,
      "outputs": [
        {
          "output_type": "stream",
          "name": "stdout",
          "text": [
            "Original DataFrame:\n",
            "    A  B   C\n",
            "r1  1  4   9\n",
            "r2  2  5  10\n",
            "r3  3  6  11\n",
            "r4  4  7  12\n",
            "r5  5  8  13\n",
            "\n",
            "After dropping the rows:\n",
            "    A  B   C\n",
            "r2  2  5  10\n",
            "r4  4  7  12\n",
            "r5  5  8  13\n"
          ]
        }
      ]
    },
    {
      "cell_type": "markdown",
      "source": [
        "**Removing Rows Based on a Condition**"
      ],
      "metadata": {
        "id": "ormgs4dlX5-X"
      }
    },
    {
      "cell_type": "code",
      "source": [
        "import pandas as pd\n",
        "# Create a DataFrame\n",
        "df = pd.DataFrame({'A': [1, 2, 3, 4, 5],'B': [4, 5, 6, 7, 8],\n",
        "'C': [90, 0, 11, 12, 13]}, index=['r1', 'r2', 'r3', 'r4', 'r5'])\n",
        "\n",
        "# Display original DataFrame\n",
        "print(\"Original DataFrame:\")\n",
        "print(df)\n",
        "\n",
        "# Dropping rows where column 'C' contains 0\n",
        "result = df[df[\"C\"] != 0]\n",
        "\n",
        "# Display the result\n",
        "print(\"\\nAfter dropping the row where 'C' has 0:\")\n",
        "print(result)"
      ],
      "metadata": {
        "colab": {
          "base_uri": "https://localhost:8080/"
        },
        "id": "MPcYKilC5IUz",
        "outputId": "e967c73b-a88f-4056-e131-e8f76d939121"
      },
      "execution_count": null,
      "outputs": [
        {
          "output_type": "stream",
          "name": "stdout",
          "text": [
            "Original DataFrame:\n",
            "    A  B   C\n",
            "r1  1  4  90\n",
            "r2  2  5   0\n",
            "r3  3  6  11\n",
            "r4  4  7  12\n",
            "r5  5  8  13\n",
            "\n",
            "After dropping the row where 'C' has 0:\n",
            "    A  B   C\n",
            "r1  1  4  90\n",
            "r3  3  6  11\n",
            "r4  4  7  12\n",
            "r5  5  8  13\n"
          ]
        }
      ]
    },
    {
      "cell_type": "markdown",
      "source": [
        "**Removing Rows using Index Slicing**"
      ],
      "metadata": {
        "id": "RgUT9O9SYHAV"
      }
    },
    {
      "cell_type": "code",
      "source": [
        "import pandas as pd\n",
        "\n",
        "# Create a DataFrame\n",
        "df = pd.DataFrame({'A': [1, 2, 3, 4, 5],'B': [4, 5, 6, 7, 8]})\n",
        "\n",
        "# Display original DataFrame\n",
        "print(\"Original DataFrame:\")\n",
        "print(df)\n",
        "\n",
        "# Drop the row using the index slicing\n",
        "result = df.drop(df.index[2:4])\n",
        "\n",
        "# Display the result\n",
        "print(\"\\nAfter dropping the row at 2 and 3:\")\n",
        "print(result)"
      ],
      "metadata": {
        "colab": {
          "base_uri": "https://localhost:8080/"
        },
        "id": "DHFA31Qs5IWi",
        "outputId": "e805b0fc-9da0-4bd9-ed14-9e1fb59308e1"
      },
      "execution_count": null,
      "outputs": [
        {
          "output_type": "stream",
          "name": "stdout",
          "text": [
            "Original DataFrame:\n",
            "   A  B\n",
            "0  1  4\n",
            "1  2  5\n",
            "2  3  6\n",
            "3  4  7\n",
            "4  5  8\n",
            "\n",
            "After dropping the row at 2 and 3:\n",
            "   A  B\n",
            "0  1  4\n",
            "1  2  5\n",
            "4  5  8\n"
          ]
        }
      ]
    },
    {
      "cell_type": "markdown",
      "source": [
        "**Arithmetic Operations Between Two DataFrames**"
      ],
      "metadata": {
        "id": "pdvW6oJ9YU5-"
      }
    },
    {
      "cell_type": "code",
      "source": [
        "import pandas as pd\n",
        "\n",
        "# Create two DataFrames\n",
        "df1 = pd.DataFrame({'A': [1, 2, 3, 4], 'B': [5, 6, 7, 8]})\n",
        "df2 = pd.DataFrame({'A': [10, 20, 30], 'B': [50, 60, 70]}, index=[1, 2, 3])\n",
        "\n",
        "# Display the input DataFrames\n",
        "print(\"DataFrame 1:\\n\", df1)\n",
        "print(\"\\nDataFrame 2:\\n\", df2)\n",
        "\n",
        "# Perform arithmetic operations\n",
        "print(\"\\nAddition of Two DataFrames:\\n\", df1 + df2)\n",
        "print(\"\\nSubtraction of Two DataFrames:\\n\", df1 - df2)\n",
        "print(\"\\nMultiplication of Two DataFrames:\\n\", df1 * df2)\n",
        "print(\"\\nDivision of Two DataFrames:\\n\", df1 / df2)"
      ],
      "metadata": {
        "colab": {
          "base_uri": "https://localhost:8080/"
        },
        "id": "0GQ6p1GU5IlA",
        "outputId": "0f2bed5d-1871-4639-baec-b1a9494fb4be"
      },
      "execution_count": null,
      "outputs": [
        {
          "output_type": "stream",
          "name": "stdout",
          "text": [
            "DataFrame 1:\n",
            "    A  B\n",
            "0  1  5\n",
            "1  2  6\n",
            "2  3  7\n",
            "3  4  8\n",
            "\n",
            "DataFrame 2:\n",
            "     A   B\n",
            "1  10  50\n",
            "2  20  60\n",
            "3  30  70\n",
            "\n",
            "Addition of Two DataFrames:\n",
            "       A     B\n",
            "0   NaN   NaN\n",
            "1  12.0  56.0\n",
            "2  23.0  67.0\n",
            "3  34.0  78.0\n",
            "\n",
            "Subtraction of Two DataFrames:\n",
            "       A     B\n",
            "0   NaN   NaN\n",
            "1  -8.0 -44.0\n",
            "2 -17.0 -53.0\n",
            "3 -26.0 -62.0\n",
            "\n",
            "Multiplication of Two DataFrames:\n",
            "        A      B\n",
            "0    NaN    NaN\n",
            "1   20.0  300.0\n",
            "2   60.0  420.0\n",
            "3  120.0  560.0\n",
            "\n",
            "Division of Two DataFrames:\n",
            "           A         B\n",
            "0       NaN       NaN\n",
            "1  0.200000  0.120000\n",
            "2  0.150000  0.116667\n",
            "3  0.133333  0.114286\n"
          ]
        }
      ]
    },
    {
      "cell_type": "code",
      "source": [
        "import pandas as pd\n",
        "\n",
        "df1 = pd.DataFrame({'A': [10, 20], 'B': [30, 40]})\n",
        "df2 = pd.DataFrame({'A': [1, 2], 'B': [3, 4]})\n",
        "print(df1+df2)\n"
      ],
      "metadata": {
        "colab": {
          "base_uri": "https://localhost:8080/"
        },
        "id": "kZGD2arIFiSR",
        "outputId": "90d5f39b-7b7b-4673-e22f-f3ba56ba81ec"
      },
      "execution_count": null,
      "outputs": [
        {
          "output_type": "stream",
          "name": "stdout",
          "text": [
            "    A   B\n",
            "0  11  33\n",
            "1  22  44\n"
          ]
        }
      ]
    },
    {
      "cell_type": "code",
      "source": [
        "df1 = pd.DataFrame({'A': [10, 20], 'B': [30, 40]})\n",
        "df2 = pd.DataFrame({'A': [1, 2]})  # 'B' is missing here\n",
        "\n",
        "# Using +\n",
        "print(\"Using +:\\n\", df1 + df2)\n",
        "print(\"\\n\")\n",
        "#using .add\n",
        "print(\"using .add:\\n\", df1.add(df2, fill_value=0))\n"
      ],
      "metadata": {
        "colab": {
          "base_uri": "https://localhost:8080/"
        },
        "id": "-H3NfewkFiYr",
        "outputId": "37be83a7-d2a6-4ec5-ff00-ebb145b96249"
      },
      "execution_count": null,
      "outputs": [
        {
          "output_type": "stream",
          "name": "stdout",
          "text": [
            "Using +:\n",
            "     A   B\n",
            "0  11 NaN\n",
            "1  22 NaN\n",
            "\n",
            "\n",
            "using .add:\n",
            "     A     B\n",
            "0  11  30.0\n",
            "1  22  40.0\n"
          ]
        }
      ]
    },
    {
      "cell_type": "code",
      "source": [
        "import pandas as pd\n",
        "\n",
        "df = pd.DataFrame({'A': [10, 20], 'B': [30, 40]})\n",
        "s = pd.Series([1, 2], index=[0, 1])  # Aligns with rows\n",
        "\n",
        "# Add Series to DataFrame row-wise (default behavior)\n",
        "print(df.add(s, axis=0))\n",
        "\n",
        "s2 = pd.Series([1, 100], index=['A', 'B'])  # Aligns with columns\n",
        "\n",
        "# Add Series to DataFrame column-wise\n",
        "print(df.add(s2, axis=1))\n"
      ],
      "metadata": {
        "colab": {
          "base_uri": "https://localhost:8080/"
        },
        "id": "VdrW5tAQJ3a_",
        "outputId": "0451f9e4-82b4-4730-b99f-80f2df431d99"
      },
      "execution_count": null,
      "outputs": [
        {
          "output_type": "stream",
          "name": "stdout",
          "text": [
            "    A   B\n",
            "0  11  31\n",
            "1  22  42\n",
            "    A    B\n",
            "0  11  130\n",
            "1  21  140\n"
          ]
        }
      ]
    },
    {
      "cell_type": "code",
      "source": [
        "# Import StringIO to load a file-like object for reading CSV\n",
        "from io import StringIO\n",
        "\n",
        "# Create string representing CSV data\n",
        "data = \"\"\"S.No,Name,Age,City,Salary\n",
        "1,Tom,28,Toronto,20000\n",
        "2,Lee,32,HongKong,3000\n",
        "3,Steven,43,Bay Area,8300\n",
        "4,Ram,38,Hyderabad,3900\"\"\"\n",
        "\n",
        "# Use StringIO to convert the string data into a file-like object\n",
        "obj = StringIO(data)\n",
        "\n",
        "# read CSV into a Pandas DataFrame\n",
        "df = pd.read_csv(obj)\n",
        "\n",
        "print(df)"
      ],
      "metadata": {
        "colab": {
          "base_uri": "https://localhost:8080/"
        },
        "id": "sCzYFM4yJ3hl",
        "outputId": "1634cd25-71b3-4d1d-ea9c-f93c8dbd77b4"
      },
      "execution_count": null,
      "outputs": [
        {
          "output_type": "stream",
          "name": "stdout",
          "text": [
            "   S.No    Name  Age       City  Salary\n",
            "0     1     Tom   28    Toronto   20000\n",
            "1     2     Lee   32   HongKong    3000\n",
            "2     3  Steven   43   Bay Area    8300\n",
            "3     4     Ram   38  Hyderabad    3900\n"
          ]
        }
      ]
    },
    {
      "cell_type": "code",
      "source": [
        "import pandas as pd\n",
        "\n",
        "# dictionary of lists\n",
        "d = {'Car': ['BMW', 'Lexus', 'Audi', 'Mercedes', 'Jaguar', 'Bentley'],\n",
        "'Date_of_purchase': ['2024-10-10', '2024-10-12', '2024-10-17', '2024-10-16', '2024-10-19', '2024-10-22']}\n",
        "\n",
        "# creating dataframe from the above dictionary of lists\n",
        "dataFrame = pd.DataFrame(d)\n",
        "print(\"Original DataFrame:\\n\",dataFrame)\n",
        "\n",
        "# write dataFrame to SalesRecords CSV file\n",
        "dataFrame.to_csv(\"Output_written_CSV_File.csv\")\n",
        "\n",
        "# display the contents of the output csv\n",
        "print(\"The output csv file written successfully...\")"
      ],
      "metadata": {
        "id": "P1K0Jut5U2dF",
        "outputId": "af7d88de-1ac8-4a3a-8af0-b0ef0456f7ec",
        "colab": {
          "base_uri": "https://localhost:8080/"
        }
      },
      "execution_count": null,
      "outputs": [
        {
          "output_type": "stream",
          "name": "stdout",
          "text": [
            "Original DataFrame:\n",
            "         Car Date_of_purchase\n",
            "0       BMW       2024-10-10\n",
            "1     Lexus       2024-10-12\n",
            "2      Audi       2024-10-17\n",
            "3  Mercedes       2024-10-16\n",
            "4    Jaguar       2024-10-19\n",
            "5   Bentley       2024-10-22\n",
            "The output csv file written successfully...\n"
          ]
        }
      ]
    },
    {
      "cell_type": "code",
      "source": [],
      "metadata": {
        "id": "mvRBVMtcU2mZ"
      },
      "execution_count": null,
      "outputs": []
    }
  ]
}