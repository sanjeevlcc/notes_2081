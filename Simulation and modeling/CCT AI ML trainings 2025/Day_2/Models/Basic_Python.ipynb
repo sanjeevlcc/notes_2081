{
  "nbformat": 4,
  "nbformat_minor": 0,
  "metadata": {
    "colab": {
      "provenance": []
    },
    "kernelspec": {
      "name": "python3",
      "display_name": "Python 3"
    },
    "language_info": {
      "name": "python"
    }
  },
  "cells": [
    {
      "cell_type": "markdown",
      "source": [
        "**Slide I**"
      ],
      "metadata": {
        "id": "iLUgmKz9pHQr"
      }
    },
    {
      "cell_type": "markdown",
      "source": [
        "**Variables in Python**"
      ],
      "metadata": {
        "id": "SpLk4odWkR8Y"
      }
    },
    {
      "cell_type": "code",
      "execution_count": null,
      "metadata": {
        "colab": {
          "base_uri": "https://localhost:8080/"
        },
        "id": "rSjLGCXUmAY9",
        "outputId": "f4869493-fba2-4e0c-ccf0-8e68f2aecb90"
      },
      "outputs": [
        {
          "output_type": "stream",
          "name": "stdout",
          "text": [
            "Alice\n",
            "25\n",
            "5.4\n",
            "True\n"
          ]
        },
        {
          "output_type": "execute_result",
          "data": {
            "text/plain": [
              "bool"
            ]
          },
          "metadata": {},
          "execution_count": 2
        }
      ],
      "source": [
        "# Assigning a string to the variable 'name'\n",
        "name = \"Alice\"\n",
        "\n",
        "# Assigning an integer to the variable 'age'\n",
        "age = 25\n",
        "\n",
        "# Assigning a float to the variable 'height'\n",
        "height = 5.4\n",
        "\n",
        "# Assigning a boolean value to 'is_student'\n",
        "is_student = True\n",
        "\n",
        "# Display all variables\n",
        "print(name)         # Output: Alice\n",
        "print(age)          # Output: 25\n",
        "print(height)       # Output: 5.4\n",
        "print(is_student)   # Output: True\n",
        "\n",
        "# Check variable types\n",
        "type(age)\n",
        "type(is_student)"
      ]
    },
    {
      "cell_type": "markdown",
      "source": [
        "**Implicit Typecasting**"
      ],
      "metadata": {
        "id": "ZDzkuVMZZR_P"
      }
    },
    {
      "cell_type": "markdown",
      "source": [
        "Python automatically converts one data type to another when safe to do so (like from int to float)."
      ],
      "metadata": {
        "id": "QVUv-T6BZejQ"
      }
    },
    {
      "cell_type": "code",
      "source": [
        "a = 10       # int\n",
        "b = 3.5      # float\n",
        "\n",
        "result = a + b   # int + float → result is float\n",
        "\n",
        "print(result)        # Output: 13.5\n",
        "print(type(result))  # Output: <class 'float'>\n"
      ],
      "metadata": {
        "colab": {
          "base_uri": "https://localhost:8080/"
        },
        "id": "8gFaD8kjZYiY",
        "outputId": "f9473883-2a80-461a-e0f0-830bcc70acc4"
      },
      "execution_count": null,
      "outputs": [
        {
          "output_type": "stream",
          "name": "stdout",
          "text": [
            "13.5\n",
            "<class 'float'>\n"
          ]
        }
      ]
    },
    {
      "cell_type": "markdown",
      "source": [
        "**Getting Input from the User (Also Explicit Type casting)**"
      ],
      "metadata": {
        "id": "OTEB10RBY7XX"
      }
    },
    {
      "cell_type": "code",
      "source": [
        "# Ask the user to enter their name\n",
        "name = input(\"Enter your name: \")  # Takes input as a string\n",
        "\n",
        "# Ask the user to enter their age\n",
        "age = int(input(\"Enter your age: \"))  # Converts the input string to integer (explicit typecasting)\n",
        "\n",
        "# Display a personalized message\n",
        "print(\"Hello\", name, \"you are\", age, \"years old.\")"
      ],
      "metadata": {
        "colab": {
          "base_uri": "https://localhost:8080/"
        },
        "id": "KoCT5GJ3oQ8X",
        "outputId": "4c58b360-5a29-4ab8-c6d7-b086f3d721b1"
      },
      "execution_count": null,
      "outputs": [
        {
          "output_type": "stream",
          "name": "stdout",
          "text": [
            "Enter your name: Gaurav\n",
            "Enter your age: 24\n",
            "Hello Gaurav you are 24 years old.\n"
          ]
        }
      ]
    },
    {
      "cell_type": "markdown",
      "source": [
        "**Arithmetical Operations**"
      ],
      "metadata": {
        "id": "G9uFh0AGklsx"
      }
    },
    {
      "cell_type": "code",
      "source": [
        "a = 11   # Assigning integer value 10 to variable a\n",
        "b = 3    # Assigning integer value 3 to variable b\n",
        "\n",
        "print(a + b)   # Addition\n",
        "print(a - b)   # Subtraction\n",
        "print(a * b)   # Multiplication\n",
        "print(a / b)   # Division\n",
        "print(a // b)  # Floor Division (Rounds the result down to the nearest whole number)\n",
        "print(a % b)   # Modulus (remainder)\n",
        "print(a ** b)  # Exponentiation:(11^3)"
      ],
      "metadata": {
        "colab": {
          "base_uri": "https://localhost:8080/"
        },
        "id": "rPr5TkN1pZIZ",
        "outputId": "2e765791-5c8a-4c92-851c-8e2e4fb86844"
      },
      "execution_count": null,
      "outputs": [
        {
          "output_type": "stream",
          "name": "stdout",
          "text": [
            "14\n",
            "8\n",
            "33\n",
            "3.6666666666666665\n",
            "3\n",
            "2\n",
            "1331\n"
          ]
        }
      ]
    },
    {
      "cell_type": "markdown",
      "source": [
        "**Compound Assignment Operators**"
      ],
      "metadata": {
        "id": "mXsxRzFEmaLH"
      }
    },
    {
      "cell_type": "code",
      "source": [
        "x = 5          # Initial value of x is 5\n",
        "x += 3         # x = x + 3 => x becomes 8\n",
        "print(x)\n",
        "\n",
        "x *= 2         # x = x * 2 => x becomes 16\n",
        "print(x)\n",
        "\n",
        "x -= 4         # x = x - 4 => x becomes 12\n",
        "print(x)"
      ],
      "metadata": {
        "colab": {
          "base_uri": "https://localhost:8080/"
        },
        "id": "8_AvzaukpZKK",
        "outputId": "aaa7b100-e60c-4946-df8e-50b11f11738a"
      },
      "execution_count": null,
      "outputs": [
        {
          "output_type": "stream",
          "name": "stdout",
          "text": [
            "8\n",
            "16\n",
            "12\n"
          ]
        }
      ]
    },
    {
      "cell_type": "markdown",
      "source": [
        "**Boolean Operation**"
      ],
      "metadata": {
        "id": "JWEZV4BQWACg"
      }
    },
    {
      "cell_type": "markdown",
      "source": [
        "Everything else (except non-empty or non-zero) is truthy."
      ],
      "metadata": {
        "id": "iLu7AGimW4tZ"
      }
    },
    {
      "cell_type": "code",
      "source": [
        "print(0 and 5)        # 0 → first is falsy\n",
        "print(3 and 5)        # 5 → both are truthy, returns second\n",
        "print('' and 'hello') # '' → falsy\n",
        "print('hi' and 'bye') # 'bye'\n",
        "\n",
        "print(0 or 5)         # 5 → first is falsy\n",
        "print(3 or 5)         # 3 → first is truthy\n",
        "print('' or 'hello')  # 'hello'\n",
        "print('hi' or 'bye')  # 'hi'\n",
        "\n",
        "print(not 0)       # True\n",
        "print(not 5)       # False\n",
        "print(not '')      # True\n",
        "print(not 'hi')    # False"
      ],
      "metadata": {
        "colab": {
          "base_uri": "https://localhost:8080/"
        },
        "id": "VFNTwZw-V-hL",
        "outputId": "8fdf59e8-c2d5-4604-a114-7e83b3aecc7d"
      },
      "execution_count": null,
      "outputs": [
        {
          "output_type": "stream",
          "name": "stdout",
          "text": [
            "0\n",
            "5\n",
            "\n",
            "bye\n",
            "5\n",
            "3\n",
            "hello\n",
            "hi\n",
            "True\n",
            "False\n",
            "True\n",
            "False\n"
          ]
        }
      ]
    },
    {
      "cell_type": "markdown",
      "source": [
        "**Built-in Functions**"
      ],
      "metadata": {
        "id": "rRJiU271mmVa"
      }
    },
    {
      "cell_type": "code",
      "source": [
        "num = -7.6\n",
        "print(abs(num))     # Absolute value: 7.6\n",
        "\n",
        "print(round(num))   # Rounded value: -8\n",
        "\n",
        "print(max(5, 8, 2))  # Maximum value: 8"
      ],
      "metadata": {
        "colab": {
          "base_uri": "https://localhost:8080/"
        },
        "id": "C2KQ13OzpZOf",
        "outputId": "acb4e951-6b95-4350-b44c-b013c27e94ba"
      },
      "execution_count": null,
      "outputs": [
        {
          "output_type": "stream",
          "name": "stdout",
          "text": [
            "7.6\n",
            "-8\n",
            "8\n"
          ]
        }
      ]
    },
    {
      "cell_type": "markdown",
      "source": [
        "**Modules in Python**\n",
        "\n",
        "> Add blockquote\n",
        "\n"
      ],
      "metadata": {
        "id": "HO2jpRnVm4mJ"
      }
    },
    {
      "cell_type": "code",
      "source": [
        "import math  # Importing the math module\n",
        "\n",
        "print(math.sqrt(16))  # Prints square root of 16 => 4.0\n",
        "print(math.pi)        # Prints value of Pi => 3.14159..."
      ],
      "metadata": {
        "colab": {
          "base_uri": "https://localhost:8080/"
        },
        "id": "Zx2rH2OJuAro",
        "outputId": "3d9a8fab-3e43-4b9e-d2c2-4ad7b5440f14"
      },
      "execution_count": null,
      "outputs": [
        {
          "output_type": "stream",
          "name": "stdout",
          "text": [
            "4.0\n",
            "3.141592653589793\n"
          ]
        }
      ]
    },
    {
      "cell_type": "markdown",
      "source": [
        "**Relational Operators and Boolean Type**"
      ],
      "metadata": {
        "id": "l1II_uKcnC-7"
      }
    },
    {
      "cell_type": "code",
      "source": [
        "a = 15\n",
        "b = 10\n",
        "\n",
        "print(a == b)  # False: a is not equal to b\n",
        "print(a != b)  # True: a is not equal to b\n",
        "print(a > b)   # True: a is greater than b\n",
        "print(a < b)   # False: a is not less than b\n",
        "print(a >= b)  # True: a is greater than or equal to b\n",
        "print(a <= b)  # False: a is not less than or equal to b"
      ],
      "metadata": {
        "colab": {
          "base_uri": "https://localhost:8080/"
        },
        "id": "hnUTr7DYuAyr",
        "outputId": "b4a58337-dbdd-4bbc-d210-e892eb01573c"
      },
      "execution_count": null,
      "outputs": [
        {
          "output_type": "stream",
          "name": "stdout",
          "text": [
            "False\n",
            "True\n",
            "True\n",
            "False\n",
            "True\n",
            "False\n"
          ]
        }
      ]
    },
    {
      "cell_type": "markdown",
      "source": [
        "**f-strings**"
      ],
      "metadata": {
        "id": "-2ff26Z7nLL1"
      }
    },
    {
      "cell_type": "code",
      "source": [
        "name = \"Bob\"\n",
        "age = 30\n",
        "\n",
        "# Use f-string to include variables in a sentence\n",
        "print(f\"My name is {name} and I am {age} years old.\")"
      ],
      "metadata": {
        "colab": {
          "base_uri": "https://localhost:8080/"
        },
        "id": "an0FMkhQuA_X",
        "outputId": "844c0435-74a6-4534-e0f8-fa57c9628412"
      },
      "execution_count": null,
      "outputs": [
        {
          "output_type": "stream",
          "name": "stdout",
          "text": [
            "My name is Bob and I am 30 years old.\n"
          ]
        }
      ]
    },
    {
      "cell_type": "markdown",
      "source": [
        "**Slide II & III**"
      ],
      "metadata": {
        "id": "Bp2w4GcIZxCq"
      }
    },
    {
      "cell_type": "markdown",
      "source": [
        "**Data Types in Python**"
      ],
      "metadata": {
        "id": "tFg0thZanWWL"
      }
    },
    {
      "cell_type": "markdown",
      "source": [
        "**List & It's operations**"
      ],
      "metadata": {
        "id": "EA6C4kRKY6AP"
      }
    },
    {
      "cell_type": "code",
      "source": [
        "# Creating a list of fruits\n",
        "fruits = [\"apple\", \"banana\", \"cherry\"]\n",
        "\n",
        "# Accessing elements\n",
        "print(fruits[0])       # Prints 'apple'\n",
        "\n",
        "# Appending an element\n",
        "fruits.append(\"orange\")\n",
        "print(fruits)          # ['apple', 'banana', 'cherry', 'orange']\n",
        "\n",
        "# Inserting at specific index\n",
        "fruits.insert(1, \"grape\")\n",
        "print(fruits)          # ['apple', 'grape', 'banana', 'cherry', 'orange']\n",
        "\n",
        "# Removing an element\n",
        "fruits.remove(\"banana\")\n",
        "print(fruits)          # ['apple', 'grape', 'cherry', 'orange']\n",
        "\n",
        "# Popping the last element\n",
        "last_item = fruits.pop()\n",
        "print(last_item)       # 'orange'\n",
        "print(fruits)          # ['apple', 'grape', 'cherry']\n",
        "\n",
        "# Slicing the list\n",
        "print(fruits[1:4])     # ['grape']\n",
        "\n",
        "# Sorting the list\n",
        "fruits.sort()\n",
        "print(fruits)          # ['apple', 'cherry', 'grape']\n",
        "\n",
        "# Reversing the list\n",
        "fruits.reverse()\n",
        "print(fruits)          # ['grape', 'cherry', 'apple']\n",
        "\n",
        "# Looping through the list\n",
        "for things in fruits:\n",
        "    print(things)       # Prints each fruit one by one"
      ],
      "metadata": {
        "colab": {
          "base_uri": "https://localhost:8080/"
        },
        "id": "gJOSe6UnZLRC",
        "outputId": "77ccd345-87cd-4df1-a2ad-fbf7471caac2"
      },
      "execution_count": null,
      "outputs": [
        {
          "output_type": "stream",
          "name": "stdout",
          "text": [
            "apple\n",
            "['apple', 'banana', 'cherry', 'orange']\n",
            "['apple', 'grape', 'banana', 'cherry', 'orange']\n",
            "['apple', 'grape', 'cherry', 'orange']\n",
            "orange\n",
            "['apple', 'grape', 'cherry']\n",
            "['grape', 'cherry']\n",
            "['apple', 'cherry', 'grape']\n",
            "['grape', 'cherry', 'apple']\n",
            "grape\n",
            "cherry\n",
            "apple\n"
          ]
        }
      ]
    },
    {
      "cell_type": "markdown",
      "source": [
        "**Tuple and It's operations**"
      ],
      "metadata": {
        "id": "NHUPRiQxoHjX"
      }
    },
    {
      "cell_type": "code",
      "source": [
        "# Creating a tuple of fruits\n",
        "fruits = (\"apple\", \"banana\", \"cherry\")\n",
        "\n",
        "# Accessing elements by index\n",
        "print(fruits[0])        # Output: 'apple'\n",
        "\n",
        "# Tuple is immutable - we cannot append, insert or remove directly\n",
        "# But we can convert to a list, modify, and convert back if needed\n",
        "\n",
        "# Converting tuple to list to add an element\n",
        "fruits_list = list(fruits)\n",
        "fruits_list.append(\"orange\")\n",
        "fruits = tuple(fruits_list)\n",
        "print(fruits)           # ('apple', 'banana', 'cherry', 'orange')\n",
        "\n",
        "# Getting the last item (no pop, but we can access by index)\n",
        "last_item = fruits[-1]\n",
        "print(last_item)        # 'orange'\n",
        "\n",
        "# Length of the tuple\n",
        "print(len(fruits))      # 4\n",
        "\n",
        "# Checking existence\n",
        "print(\"apple\" in fruits)   # True\n",
        "\n",
        "# Slicing the tuple\n",
        "print(fruits[1:3])      # ('banana', 'cherry')\n",
        "\n",
        "# Looping through the tuple\n",
        "for fruit in fruits:\n",
        "    print(fruit)        # Prints each fruit one by one\n"
      ],
      "metadata": {
        "colab": {
          "base_uri": "https://localhost:8080/"
        },
        "id": "pOCuKjYtZLR-",
        "outputId": "a4195603-ec46-45b1-891f-297efd4a5ea0"
      },
      "execution_count": null,
      "outputs": [
        {
          "output_type": "stream",
          "name": "stdout",
          "text": [
            "apple\n",
            "('apple', 'banana', 'cherry', 'orange')\n",
            "orange\n",
            "4\n",
            "True\n",
            "('banana', 'cherry')\n",
            "('apple', 'banana', 'cherry', 'orange')\n",
            "('orange', 'cherry', 'banana', 'apple')\n",
            "apple\n",
            "banana\n",
            "cherry\n",
            "orange\n"
          ]
        }
      ]
    },
    {
      "cell_type": "markdown",
      "source": [
        "**Set & It's Operations**"
      ],
      "metadata": {
        "id": "SCdmmILAoRHK"
      }
    },
    {
      "cell_type": "code",
      "source": [
        "my_set = {1, 2, 3, 2}\n",
        "\n",
        "print(my_set)       # Output: {1, 2, 3} (duplicate 2 is removed)\n",
        "\n",
        "# Add a new item\n",
        "my_set.add(4)\n",
        "print(my_set)       # Output: {1, 2, 3, 4}\n",
        "\n",
        "# Remove an item\n",
        "my_set.remove(1)\n",
        "print(my_set)       # Output: {2, 3, 4}\n",
        "\n",
        "# Trying to access by index\n",
        " #print(my_set[0])  ❌ Will cause an error\n"
      ],
      "metadata": {
        "colab": {
          "base_uri": "https://localhost:8080/"
        },
        "id": "Y3jy8k8GZLXg",
        "outputId": "b087bcdc-ef8b-4459-d007-57153eb7e5ad"
      },
      "execution_count": null,
      "outputs": [
        {
          "output_type": "stream",
          "name": "stdout",
          "text": [
            "{1, 2, 3}\n",
            "{1, 2, 3, 4}\n",
            "{2, 3, 4}\n"
          ]
        }
      ]
    },
    {
      "cell_type": "markdown",
      "source": [
        "**Dictionary & Operations**"
      ],
      "metadata": {
        "id": "wuuqo2_zoaCM"
      }
    },
    {
      "cell_type": "code",
      "source": [
        "# Creating a dictionary of fruits with quantity as value\n",
        "fruits = {\n",
        "    \"apple\": 10,\n",
        "    \"banana\": 5,\n",
        "    \"cherry\": 12\n",
        "}\n",
        "# Accessing elements (value by key)\n",
        "print(fruits[\"apple\"])  # Output: 10\n",
        "\n",
        "# Adding a new key-value pair\n",
        "fruits[\"orange\"] = 7\n",
        "print(\"After adding orange:\", fruits)\n",
        "# Output: {'apple': 10, 'banana': 5, 'cherry': 12, 'orange': 7}\n",
        "\n",
        "# Updating the value of an existing key\n",
        "fruits[\"banana\"] = 8\n",
        "print(\"After updating banana:\", fruits)\n",
        "# Output: {'apple': 10, 'banana': 8, 'cherry': 12, 'orange': 7}\n",
        "\n",
        "# Removing a key-value pair using del\n",
        "del fruits[\"banana\"]\n",
        "print(\"After deleting banana:\", fruits)\n",
        "# Output: {'apple': 10, 'cherry': 12, 'orange': 7}\n",
        "\n",
        "# Popping a key-value pair and returning its value\n",
        "removed_value = fruits.pop(\"orange\")\n",
        "print(\"Removed value:\", removed_value)  # Output: 7\n",
        "print(\"After popping orange:\", fruits)\n",
        "# Output: {'apple': 10, 'cherry': 12}\n",
        "\n",
        "# Length of the dictionary (number of key-value pairs)\n",
        "print(\"Length:\", len(fruits))  # Output: 2"
      ],
      "metadata": {
        "colab": {
          "base_uri": "https://localhost:8080/"
        },
        "id": "MPsdAsO0oRDC",
        "outputId": "e126b0a6-10af-4043-d11e-5ba6a92154b0"
      },
      "execution_count": null,
      "outputs": [
        {
          "output_type": "stream",
          "name": "stdout",
          "text": [
            "10\n",
            "After adding orange: {'apple': 10, 'banana': 5, 'cherry': 12, 'orange': 7}\n",
            "After updating banana: {'apple': 10, 'banana': 8, 'cherry': 12, 'orange': 7}\n",
            "After deleting banana: {'apple': 10, 'cherry': 12, 'orange': 7}\n",
            "Removed value: 7\n",
            "After popping orange: {'apple': 10, 'cherry': 12}\n",
            "Length: 2\n"
          ]
        }
      ]
    },
    {
      "cell_type": "code",
      "source": [
        "# Checking for key existence\n",
        "print(\"apple\" in fruits)   # Output: True\n",
        "print(\"banana\" in fruits)  # Output: False\n",
        "\n",
        "# Looping through dictionary keys\n",
        "print(\"Looping through keys:\")\n",
        "for fruit in fruits:\n",
        "    print(fruit)\n",
        "# Output:\n",
        "# apple\n",
        "# cherry\n",
        "\n",
        "# Looping through key-value pairs\n",
        "print(\"Looping through key-value pairs:\")\n",
        "for fruit, quantity in fruits.items():\n",
        "    print(f\"{fruit}: {quantity}\")\n",
        "# Output:\n",
        "# apple: 10\n",
        "# cherry: 12\n",
        "\n",
        "# Getting all keys\n",
        "print(\"Keys:\", fruits.keys())\n",
        "# Output: dict_keys(['apple', 'cherry'])\n",
        "\n",
        "# Getting all values\n",
        "print(\"Values:\", fruits.values())\n",
        "# Output: dict_values([10, 12])\n",
        "\n",
        "# Getting all items (key-value pairs)\n",
        "print(\"Items:\", fruits.items())\n",
        "# Output: dict_items([('apple', 10), ('cherry', 12)])"
      ],
      "metadata": {
        "colab": {
          "base_uri": "https://localhost:8080/"
        },
        "id": "wfj2azCYoRQQ",
        "outputId": "86cff8fb-4119-4a08-a947-44cf31a63d57"
      },
      "execution_count": null,
      "outputs": [
        {
          "output_type": "stream",
          "name": "stdout",
          "text": [
            "True\n",
            "False\n",
            "Looping through keys:\n",
            "apple\n",
            "cherry\n",
            "Looping through key-value pairs:\n",
            "apple: 10\n",
            "cherry: 12\n",
            "Keys: dict_keys(['apple', 'cherry'])\n",
            "Values: dict_values([10, 12])\n",
            "Items: dict_items([('apple', 10), ('cherry', 12)])\n"
          ]
        }
      ]
    },
    {
      "cell_type": "markdown",
      "source": [
        "**From pdf**"
      ],
      "metadata": {
        "id": "B-uCNoxuqWgf"
      }
    },
    {
      "cell_type": "markdown",
      "source": [
        "**if-else Statement in Python**"
      ],
      "metadata": {
        "id": "oS8FuDlaxu0x"
      }
    },
    {
      "cell_type": "markdown",
      "source": [
        "Key Concepts:\n",
        "1.   if checks a condition (expression that returns True or False)\n",
        "2.   If True, the code under if block runs.\n",
        "3.   If False, the code under else runs (if provided).\n",
        "\n",
        "Note: if-elif-else is used for multiple conditions\n",
        "\n",
        "\n",
        "\n",
        "\n",
        "\n",
        "\n"
      ],
      "metadata": {
        "id": "IY6dQOOox0Cg"
      }
    },
    {
      "cell_type": "markdown",
      "source": [
        "**Nested if-else**"
      ],
      "metadata": {
        "id": "F0APXF8ApMj3"
      }
    },
    {
      "cell_type": "code",
      "source": [
        "username = input (\"Enter your Username:\")\n",
        "password = input (\"Enter your Password:\")\n",
        "\n",
        "if username == \"admin\":\n",
        "    if password == \"1234\":\n",
        "        print(\"Login successful!\")\n",
        "    else:\n",
        "        print(\"Incorrect password.\")\n",
        "else:\n",
        "    print(\"Unknown user.\")\n"
      ],
      "metadata": {
        "colab": {
          "base_uri": "https://localhost:8080/"
        },
        "id": "rGdBbBXnuAZ0",
        "outputId": "41a1c843-6a18-4de6-8d67-6c431483c7b1"
      },
      "execution_count": null,
      "outputs": [
        {
          "output_type": "stream",
          "name": "stdout",
          "text": [
            "Enter your Username:gaur\n",
            "Enter your Password:123\n",
            "Unknown user.\n"
          ]
        }
      ]
    },
    {
      "cell_type": "markdown",
      "source": [
        "**While Loop in python**"
      ],
      "metadata": {
        "id": "-FGRWaKqpT-f"
      }
    },
    {
      "cell_type": "markdown",
      "source": [
        "Used when the number of iterations is unknown; depends on a condition. Repeats as long as the condition is True."
      ],
      "metadata": {
        "id": "zOrH0OgPtO4R"
      }
    },
    {
      "cell_type": "code",
      "source": [
        "i = 1\n",
        "while i <= 5:\n",
        "    print(i)\n",
        "    i += 1"
      ],
      "metadata": {
        "colab": {
          "base_uri": "https://localhost:8080/"
        },
        "id": "VOk-Ry_o4ATw",
        "outputId": "704ad5e3-6ac9-4326-e6df-dfb521a71c18"
      },
      "execution_count": null,
      "outputs": [
        {
          "output_type": "stream",
          "name": "stdout",
          "text": [
            "1\n",
            "2\n",
            "3\n",
            "4\n",
            "5\n"
          ]
        }
      ]
    },
    {
      "cell_type": "markdown",
      "source": [
        "**break Statement**"
      ],
      "metadata": {
        "id": "IIOncKSGsDPP"
      }
    },
    {
      "cell_type": "markdown",
      "source": [
        "Used to exit a loop (both while and for) immediately when a certain condition is met."
      ],
      "metadata": {
        "id": "fvfkqSObtYMv"
      }
    },
    {
      "cell_type": "code",
      "source": [
        "i = 1\n",
        "while i <= 5:\n",
        "  if i == 3:\n",
        "    break\n",
        "  print(i)\n",
        "  i += 1"
      ],
      "metadata": {
        "colab": {
          "base_uri": "https://localhost:8080/"
        },
        "id": "4CSKCbVyrqP2",
        "outputId": "aecc6cb7-5d67-4aa9-a5a6-6a0533537707"
      },
      "execution_count": null,
      "outputs": [
        {
          "output_type": "stream",
          "name": "stdout",
          "text": [
            "1\n",
            "2\n"
          ]
        }
      ]
    },
    {
      "cell_type": "markdown",
      "source": [
        "**for Loop**"
      ],
      "metadata": {
        "id": "Gap4NcJrsKzo"
      }
    },
    {
      "cell_type": "markdown",
      "source": [
        "Used when the number of iterations is known or fixed. Iterates over items in a sequence (like list, range)."
      ],
      "metadata": {
        "id": "nf8yxRUctaW5"
      }
    },
    {
      "cell_type": "code",
      "source": [
        "for i in range(1, 6):\n",
        "    print(i)"
      ],
      "metadata": {
        "colab": {
          "base_uri": "https://localhost:8080/"
        },
        "id": "tUzMToRRuAh5",
        "outputId": "12032888-f51c-4b79-8458-43d9546983a9"
      },
      "execution_count": null,
      "outputs": [
        {
          "output_type": "stream",
          "name": "stdout",
          "text": [
            "1\n",
            "2\n",
            "3\n",
            "4\n",
            "5\n"
          ]
        }
      ]
    },
    {
      "cell_type": "markdown",
      "source": [
        "**continue Statement**"
      ],
      "metadata": {
        "id": "aSwVEwVfsShP"
      }
    },
    {
      "cell_type": "markdown",
      "source": [
        "Used to skip the current iteration and continue with the next one."
      ],
      "metadata": {
        "id": "MmrHvYe5tmn0"
      }
    },
    {
      "cell_type": "code",
      "source": [
        "for i in range(1, 6):\n",
        "    if i == 3:\n",
        "        continue  # skips rest of the code for i==3\n",
        "    print(i)"
      ],
      "metadata": {
        "colab": {
          "base_uri": "https://localhost:8080/"
        },
        "id": "J6Hln0KC7FLo",
        "outputId": "afe72369-0f80-4090-8f81-c0c7e819331d"
      },
      "execution_count": null,
      "outputs": [
        {
          "output_type": "stream",
          "name": "stdout",
          "text": [
            "1\n",
            "2\n",
            "4\n",
            "5\n"
          ]
        }
      ]
    },
    {
      "cell_type": "markdown",
      "source": [
        "**while loop with break & continue**"
      ],
      "metadata": {
        "id": "MOjxAZ-ytx8q"
      }
    },
    {
      "cell_type": "code",
      "source": [
        "attempts = 0\n",
        "while attempts < 3:\n",
        "    username = input(\"Enter username: \")\n",
        "\n",
        "    if username == \"\":\n",
        "        print(\"Empty input, try again.\")\n",
        "        continue  # skip to next attempt\n",
        "\n",
        "    if username == \"admin\":\n",
        "        print(\"Welcome admin!\")\n",
        "        break  # exit loop on success\n",
        "    else:\n",
        "        print(\"Incorrect username.\")\n",
        "\n",
        "    attempts += 1"
      ],
      "metadata": {
        "colab": {
          "base_uri": "https://localhost:8080/"
        },
        "id": "OTLnn1Zc7FZo",
        "outputId": "374a6d94-9027-4da2-b5fd-bcb5bcc14f45"
      },
      "execution_count": null,
      "outputs": [
        {
          "output_type": "stream",
          "name": "stdout",
          "text": [
            "Enter username: \n",
            "Empty input, try again.\n",
            "Enter username: \n",
            "Empty input, try again.\n",
            "Enter username: \n",
            "Empty input, try again.\n",
            "Enter username: admin\n",
            "Welcome admin!\n"
          ]
        }
      ]
    },
    {
      "cell_type": "markdown",
      "source": [
        "**Nested Loops in Python**"
      ],
      "metadata": {
        "id": "U21qd8S_uMxf"
      }
    },
    {
      "cell_type": "markdown",
      "source": [
        "A nested loop is a loop inside another loop. This is useful when dealing with multi\n",
        "dimensional data like matrices, tables, or patterns."
      ],
      "metadata": {
        "id": "6pGZNZ5buUUo"
      }
    },
    {
      "cell_type": "code",
      "source": [
        "# Define the number of rows we want in our pattern\n",
        "rows = input(\"Enter the number of rows: \")\n",
        "\n",
        "# Convert the input string to an integer\n",
        "rows = int(rows)\n",
        "\n",
        "# Outer loop: Iterates over each row (from 1 to rows inclusive)\n",
        "for i in range(1, rows + 1):\n",
        "\n",
        "    # Inner loop: Iterates from 1 to i (inclusive), so the number of elements increases each row\n",
        "    for j in range(1, i + 1):\n",
        "\n",
        "        # Print the current value of j with a space (staying on the same line using end=\" \")\n",
        "        print(j, end=\" \")\n",
        "\n",
        "    # After inner loop ends, move to the next line (start a new row)\n",
        "    print()"
      ],
      "metadata": {
        "colab": {
          "base_uri": "https://localhost:8080/"
        },
        "id": "MdLUAJHb-SED",
        "outputId": "a3af568f-5bce-49bd-823e-97a815faf057"
      },
      "execution_count": null,
      "outputs": [
        {
          "output_type": "stream",
          "name": "stdout",
          "text": [
            "Enter the number of rows: 7\n",
            "1 \n",
            "1 2 \n",
            "1 2 3 \n",
            "1 2 3 4 \n",
            "1 2 3 4 5 \n",
            "1 2 3 4 5 6 \n",
            "1 2 3 4 5 6 7 \n"
          ]
        }
      ]
    },
    {
      "cell_type": "markdown",
      "source": [
        "**Printing Primes between 2 & 99**"
      ],
      "metadata": {
        "id": "5SCR7i5bw6bu"
      }
    },
    {
      "cell_type": "code",
      "source": [
        "# Initialize an empty list to store prime numbers\n",
        "primes = []\n",
        "\n",
        "# Loop through numbers from 2 to 99 (inclusive of 2, exclusive of 100)\n",
        "for num in range(2, 100):\n",
        "\n",
        "    # Assume the current number is prime (we'll check this below)\n",
        "    possible_prime = True\n",
        "\n",
        "    # Check for factors from 2 to num-1\n",
        "    for j in range(2, num):\n",
        "\n",
        "        # If num is divisible by any j, it's not prime\n",
        "        if num % j == 0:\n",
        "            possible_prime = False  # Mark as not prime\n",
        "            break  # No need to check further, break the inner loop\n",
        "\n",
        "    # If no factor was found, then num is a prime number\n",
        "    if possible_prime == True:\n",
        "        primes.append(num)  # Add it to the list of primes\n",
        "\n",
        "# After all numbers are checked, print the list of prime numbers\n",
        "print(primes)\n"
      ],
      "metadata": {
        "colab": {
          "base_uri": "https://localhost:8080/"
        },
        "id": "Iw0y6T-oD0-v",
        "outputId": "40129a1f-a1a0-43f9-e191-7e8580deebbe"
      },
      "execution_count": null,
      "outputs": [
        {
          "output_type": "stream",
          "name": "stdout",
          "text": [
            "[2, 3, 5, 7, 11, 13, 17, 19, 23, 29, 31, 37, 41, 43, 47, 53, 59, 61, 67, 71, 73, 79, 83, 89, 97]\n"
          ]
        }
      ]
    },
    {
      "cell_type": "markdown",
      "source": [
        "**Function**"
      ],
      "metadata": {
        "id": "hIZI5zbH3T23"
      }
    },
    {
      "cell_type": "code",
      "source": [
        "# Define a function to add two numbers\n",
        "def add_numbers(a, b):\n",
        "    result = a + b\n",
        "    return result\n",
        "\n",
        "# Call the function and print the result\n",
        "sum_value = add_numbers(5, 3)\n",
        "print(\"The sum is:\", sum_value)\n"
      ],
      "metadata": {
        "colab": {
          "base_uri": "https://localhost:8080/"
        },
        "id": "OEd5xEpzD1Gj",
        "outputId": "e708c001-bbeb-4c5c-bbef-5a5a6b9996cf"
      },
      "execution_count": null,
      "outputs": [
        {
          "output_type": "stream",
          "name": "stdout",
          "text": [
            "The sum is: 8\n"
          ]
        }
      ]
    },
    {
      "cell_type": "code",
      "source": [
        "# Define a function with two parameters\n",
        "def greet(name, message):\n",
        "    print(f\"{message}, {name}!\")\n",
        "\n",
        "# Call the function with arguments\n",
        "greet(\"Alice\", \"Hello\")      # \"Alice\" and \"Hello\" are arguments\n",
        "greet(\"Bob\", \"Good morning\") # \"Bob\" and \"Good morning\" are arguments\n"
      ],
      "metadata": {
        "colab": {
          "base_uri": "https://localhost:8080/"
        },
        "id": "CEjO8GwDGYa0",
        "outputId": "a8bff721-ff1a-490d-e460-7ca3d2241459"
      },
      "execution_count": null,
      "outputs": [
        {
          "output_type": "stream",
          "name": "stdout",
          "text": [
            "Hello, Alice!\n",
            "Good morning, Bob!\n"
          ]
        }
      ]
    },
    {
      "cell_type": "markdown",
      "source": [
        "**Lambda Function**"
      ],
      "metadata": {
        "id": "W71neTEMBJaY"
      }
    },
    {
      "cell_type": "markdown",
      "source": [
        "A lambda function in Python is a small anonymous function — meaning:\n",
        "\n",
        "1.   It has no name (unless you assign one),\n",
        "2.   It's used for short, simple operations,\n",
        "3.   Defined using the lambda keyword instead of def."
      ],
      "metadata": {
        "id": "IkVFgrdOCUdl"
      }
    },
    {
      "cell_type": "code",
      "source": [
        "# Define lambda functions\n",
        "add = lambda a, b: a + b\n",
        "subtract = lambda a, b: a - b\n",
        "multiply = lambda a, b: a * b\n",
        "divide = lambda a, b: a / b if b != 0 else \"Error: Division by zero\"\n",
        "\n",
        "print(\"🧮 Lambda Calculator\")\n",
        "\n",
        "# Get input from user\n",
        "try:\n",
        "    a = float(input(\"Enter the first number: \"))\n",
        "    b = float(input(\"Enter the second number: \"))\n",
        "\n",
        "    # Perform operations\n",
        "    print(f\"\\nResults for a = {a}, b = {b}:\")\n",
        "    print(f\"Addition: {add(a, b)}\")\n",
        "    print(f\"Subtraction: {subtract(a, b)}\")\n",
        "    print(f\"Multiplication: {multiply(a, b)}\")\n",
        "    print(f\"Division: {divide(a, b)}\")\n",
        "\n",
        "except ValueError:\n",
        "    print(\"⚠️ Invalid input. Please enter numeric values.\")\n"
      ],
      "metadata": {
        "colab": {
          "base_uri": "https://localhost:8080/"
        },
        "id": "PQ25TC3tBTm8",
        "outputId": "5c7c98b4-ce63-45ca-8a28-006bef52682b"
      },
      "execution_count": null,
      "outputs": [
        {
          "output_type": "stream",
          "name": "stdout",
          "text": [
            "🧮 Lambda Calculator\n",
            "Enter the first number: 11.2\n",
            "Enter the second number: 20.5\n",
            "\n",
            "Results for a = 11.2, b = 20.5:\n",
            "Addition: 31.7\n",
            "Subtraction: -9.3\n",
            "Multiplication: 229.6\n",
            "Division: 0.5463414634146341\n"
          ]
        }
      ]
    },
    {
      "cell_type": "markdown",
      "source": [
        "**Recursive Function**"
      ],
      "metadata": {
        "id": "cL8ngPP2D9SI"
      }
    },
    {
      "cell_type": "code",
      "source": [
        "def factorial(n):\n",
        "    if n == 0 or n == 1:        # Base case\n",
        "        return 1\n",
        "    else:\n",
        "        return n * factorial(n - 1)  # Recursive call\n",
        "\n",
        "print(factorial(5))  # Output: 120\n"
      ],
      "metadata": {
        "colab": {
          "base_uri": "https://localhost:8080/"
        },
        "id": "OWa6d8rhECd1",
        "outputId": "ce515c9d-3c34-4bf1-8548-1a5bea5559a5"
      },
      "execution_count": null,
      "outputs": [
        {
          "output_type": "stream",
          "name": "stdout",
          "text": [
            "120\n"
          ]
        }
      ]
    },
    {
      "cell_type": "markdown",
      "source": [
        "**Global & Local Variable in a Function**"
      ],
      "metadata": {
        "id": "_itQDRMw3mZY"
      }
    },
    {
      "cell_type": "code",
      "source": [
        "# Global variable\n",
        "message = \"Global Message\"\n",
        "\n",
        "def print_message():\n",
        "    # Local variable (only accessible inside this function)\n",
        "    message = \"Local Message\"\n",
        "    print(\"Inside function:\", message)\n",
        "\n",
        "print_message()\n",
        "print(\"Outside function:\", message)\n"
      ],
      "metadata": {
        "colab": {
          "base_uri": "https://localhost:8080/"
        },
        "id": "1k7zyGEdSi56",
        "outputId": "b830a842-460a-4156-f333-8ce95a2b48a5"
      },
      "execution_count": null,
      "outputs": [
        {
          "output_type": "stream",
          "name": "stdout",
          "text": [
            "Inside function: Local Message\n",
            "Outside function: Global Message\n"
          ]
        }
      ]
    },
    {
      "cell_type": "markdown",
      "source": [
        "**Finding Maximum in a List**"
      ],
      "metadata": {
        "id": "41iHheYb8ble"
      }
    },
    {
      "cell_type": "code",
      "source": [
        "def find_max(numbers):\n",
        "    # Assume the first number is the max initially\n",
        "    max_num = numbers[0]\n",
        "    for num in numbers:\n",
        "        if num > max_num:\n",
        "            max_num = num\n",
        "    return max_num\n",
        "\n",
        "nums = [23, 45, 67, 89, 12]\n",
        "a = find_max(nums)\n",
        "print(\"Maximum number is:\", a)"
      ],
      "metadata": {
        "colab": {
          "base_uri": "https://localhost:8080/"
        },
        "id": "c0HXVubiSjBs",
        "outputId": "a555f5b8-f936-4e42-ebec-6bdcc2bc4308"
      },
      "execution_count": null,
      "outputs": [
        {
          "output_type": "stream",
          "name": "stdout",
          "text": [
            "Maximum number is: 89\n"
          ]
        }
      ]
    },
    {
      "cell_type": "markdown",
      "source": [
        "**Finding key through value in a Dictionary**"
      ],
      "metadata": {
        "id": "fgjjwrHhJjUb"
      }
    },
    {
      "cell_type": "code",
      "source": [
        "# Sample dictionary and value to find\n",
        "my_dict = {'a': 1, 'b': 2, 'c': 3, 'd': 2}\n",
        "value_to_find = 2\n",
        "\n",
        "# Step 1: Create an empty list to store keys with the desired value\n",
        "keys_with_value = []\n",
        "\n",
        "# Step 2: Loop through the dictionary items (key-value pairs)\n",
        "for key, value in my_dict.items():\n",
        "    # Step 3: Check if the current value matches the value to find\n",
        "    if value == value_to_find:\n",
        "        # Step 4: If it matches, add the key to the result list\n",
        "        keys_with_value.append(key)\n",
        "\n",
        "# Step 5: Print the result\n",
        "print(\"Keys with value\", value_to_find, \":\", keys_with_value)\n"
      ],
      "metadata": {
        "colab": {
          "base_uri": "https://localhost:8080/"
        },
        "id": "bEhSIeghL35A",
        "outputId": "3f0a3c4a-ed1e-421b-ec20-701449dbd52b"
      },
      "execution_count": null,
      "outputs": [
        {
          "output_type": "stream",
          "name": "stdout",
          "text": [
            "Keys with value 2 : ['b', 'd']\n"
          ]
        }
      ]
    },
    {
      "cell_type": "markdown",
      "source": [
        "**Function to sum all digits in a number**"
      ],
      "metadata": {
        "id": "CR3MQ0M7w8Ph"
      }
    },
    {
      "cell_type": "code",
      "source": [
        "def sum_digits(n):\n",
        "    total = 0\n",
        "    for digit in str(abs(n)):  # Convert number to string after removing negative sign (if any)\n",
        "        total += int(digit)    # Convert each character back to integer and add to total\n",
        "    return total\n",
        "\n",
        "print(sum_digits(1234))"
      ],
      "metadata": {
        "colab": {
          "base_uri": "https://localhost:8080/"
        },
        "id": "Ij8qJT9rxG02",
        "outputId": "86719b36-5c30-4e2e-e993-b6993bd9ec24"
      },
      "execution_count": null,
      "outputs": [
        {
          "output_type": "stream",
          "name": "stdout",
          "text": [
            "10\n"
          ]
        }
      ]
    }
  ]
}