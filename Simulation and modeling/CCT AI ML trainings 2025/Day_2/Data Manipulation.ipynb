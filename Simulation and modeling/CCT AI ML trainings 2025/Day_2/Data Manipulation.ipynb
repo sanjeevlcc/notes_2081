{
 "cells": [
  {
   "cell_type": "markdown",
   "metadata": {
    "id": "bx6rtFUgVzoA"
   },
   "source": [
    "# Data Manipulation \n",
    "Data manipulation basically refers to adjusting the data to make it organised and easier to read. We will see some of the data manipulation techniques "
   ]
  },
  {
   "cell_type": "markdown",
   "metadata": {
    "id": "_0lQMxVIIRy8"
   },
   "source": [
    "# Single element change\n",
    "We will see how we can change single element of the dataframe. Let's create a dataframe conaining some NaN"
   ]
  },
  {
   "cell_type": "code",
   "execution_count": 2,
   "metadata": {
    "colab": {
     "base_uri": "https://localhost:8080/",
     "height": 206
    },
    "executionInfo": {
     "elapsed": 431,
     "status": "ok",
     "timestamp": 1639059351387,
     "user": {
      "displayName": "Kamal Shrestha",
      "photoUrl": "https://lh3.googleusercontent.com/a-/AOh14GhZlU2G_jDo1Jj43xtf4cGT-N2Mkl7nLkR25edY=s64",
      "userId": "16887459861874596715"
     },
     "user_tz": -345
    },
    "id": "TEA6JvPQ7j_O",
    "outputId": "811189d4-13aa-427e-9e94-af55c1a2958a"
   },
   "outputs": [
    {
     "data": {
      "text/html": [
       "<div>\n",
       "<style scoped>\n",
       "    .dataframe tbody tr th:only-of-type {\n",
       "        vertical-align: middle;\n",
       "    }\n",
       "\n",
       "    .dataframe tbody tr th {\n",
       "        vertical-align: top;\n",
       "    }\n",
       "\n",
       "    .dataframe thead th {\n",
       "        text-align: right;\n",
       "    }\n",
       "</style>\n",
       "<table border=\"1\" class=\"dataframe\">\n",
       "  <thead>\n",
       "    <tr style=\"text-align: right;\">\n",
       "      <th></th>\n",
       "      <th>one</th>\n",
       "      <th>two</th>\n",
       "      <th>three</th>\n",
       "      <th>four</th>\n",
       "    </tr>\n",
       "  </thead>\n",
       "  <tbody>\n",
       "    <tr>\n",
       "      <th>0</th>\n",
       "      <td>a</td>\n",
       "      <td>b</td>\n",
       "      <td>c</td>\n",
       "      <td>d</td>\n",
       "    </tr>\n",
       "    <tr>\n",
       "      <th>1</th>\n",
       "      <td>e</td>\n",
       "      <td>NaN</td>\n",
       "      <td>g</td>\n",
       "      <td>h</td>\n",
       "    </tr>\n",
       "    <tr>\n",
       "      <th>2</th>\n",
       "      <td>i</td>\n",
       "      <td>j</td>\n",
       "      <td>NaN</td>\n",
       "      <td>l</td>\n",
       "    </tr>\n",
       "    <tr>\n",
       "      <th>3</th>\n",
       "      <td>a</td>\n",
       "      <td>e</td>\n",
       "      <td>i</td>\n",
       "      <td>o</td>\n",
       "    </tr>\n",
       "    <tr>\n",
       "      <th>4</th>\n",
       "      <td>s</td>\n",
       "      <td>k</td>\n",
       "      <td>NaN</td>\n",
       "      <td>g</td>\n",
       "    </tr>\n",
       "  </tbody>\n",
       "</table>\n",
       "</div>"
      ],
      "text/plain": [
       "  one  two three four\n",
       "0   a    b     c    d\n",
       "1   e  NaN     g    h\n",
       "2   i    j   NaN    l\n",
       "3   a    e     i    o\n",
       "4   s    k   NaN    g"
      ]
     },
     "execution_count": 2,
     "metadata": {},
     "output_type": "execute_result"
    }
   ],
   "source": [
    "import pandas as pd \n",
    "import numpy as np\n",
    "A = ['a','b','c','d']\n",
    "B = ['e',np.nan,'g','h']\n",
    "C = ['i', 'j', np.nan, 'l']\n",
    "D = ['a', 'e', 'i', 'o']\n",
    "E = ['s', 'k', np.nan, 'g']\n",
    "#create dataframe\n",
    "df = pd.DataFrame(data=[A, B, C, D, E], columns=['one', 'two', 'three', 'four'])\n",
    "\n",
    "#display dataframe\n",
    "df"
   ]
  },
  {
   "cell_type": "markdown",
   "metadata": {
    "id": "fdu82UmsM0Bp"
   },
   "source": [
    "# Fillna()\n",
    "It is used for updating missing values. Let's see how we can use pandas fillna."
   ]
  },
  {
   "cell_type": "code",
   "execution_count": 3,
   "metadata": {
    "id": "Z6QPjeo1DIJ3"
   },
   "outputs": [],
   "source": [
    "# inplace = True which indicates we make changes in the original dataframe\n",
    "\n",
    "df.fillna(2, inplace= True)"
   ]
  },
  {
   "cell_type": "code",
   "execution_count": null,
   "metadata": {
    "colab": {
     "base_uri": "https://localhost:8080/",
     "height": 206
    },
    "executionInfo": {
     "elapsed": 3,
     "status": "ok",
     "timestamp": 1639059352330,
     "user": {
      "displayName": "Kamal Shrestha",
      "photoUrl": "https://lh3.googleusercontent.com/a-/AOh14GhZlU2G_jDo1Jj43xtf4cGT-N2Mkl7nLkR25edY=s64",
      "userId": "16887459861874596715"
     },
     "user_tz": -345
    },
    "id": "kC2GO-UPJ614",
    "outputId": "c45c4086-0d9d-4bcd-e570-0b822dd17d26"
   },
   "outputs": [
    {
     "data": {
      "text/html": [
       "<div>\n",
       "<style scoped>\n",
       "    .dataframe tbody tr th:only-of-type {\n",
       "        vertical-align: middle;\n",
       "    }\n",
       "\n",
       "    .dataframe tbody tr th {\n",
       "        vertical-align: top;\n",
       "    }\n",
       "\n",
       "    .dataframe thead th {\n",
       "        text-align: right;\n",
       "    }\n",
       "</style>\n",
       "<table border=\"1\" class=\"dataframe\">\n",
       "  <thead>\n",
       "    <tr style=\"text-align: right;\">\n",
       "      <th></th>\n",
       "      <th>one</th>\n",
       "      <th>two</th>\n",
       "      <th>three</th>\n",
       "      <th>four</th>\n",
       "    </tr>\n",
       "  </thead>\n",
       "  <tbody>\n",
       "    <tr>\n",
       "      <th>0</th>\n",
       "      <td>a</td>\n",
       "      <td>b</td>\n",
       "      <td>c</td>\n",
       "      <td>d</td>\n",
       "    </tr>\n",
       "    <tr>\n",
       "      <th>1</th>\n",
       "      <td>e</td>\n",
       "      <td>2</td>\n",
       "      <td>g</td>\n",
       "      <td>h</td>\n",
       "    </tr>\n",
       "    <tr>\n",
       "      <th>2</th>\n",
       "      <td>i</td>\n",
       "      <td>j</td>\n",
       "      <td>2</td>\n",
       "      <td>l</td>\n",
       "    </tr>\n",
       "    <tr>\n",
       "      <th>3</th>\n",
       "      <td>a</td>\n",
       "      <td>e</td>\n",
       "      <td>i</td>\n",
       "      <td>o</td>\n",
       "    </tr>\n",
       "    <tr>\n",
       "      <th>4</th>\n",
       "      <td>s</td>\n",
       "      <td>k</td>\n",
       "      <td>2</td>\n",
       "      <td>g</td>\n",
       "    </tr>\n",
       "  </tbody>\n",
       "</table>\n",
       "</div>"
      ],
      "text/plain": [
       "  one two three four\n",
       "0   a   b     c    d\n",
       "1   e   2     g    h\n",
       "2   i   j     2    l\n",
       "3   a   e     i    o\n",
       "4   s   k     2    g"
      ]
     },
     "execution_count": 6,
     "metadata": {},
     "output_type": "execute_result"
    }
   ],
   "source": [
    "df"
   ]
  },
  {
   "cell_type": "code",
   "execution_count": 4,
   "metadata": {
    "id": "v3U3fhIHUfsI"
   },
   "outputs": [],
   "source": [
    "import pandas as pd \n",
    "import numpy as np\n",
    "A = ['a','b','c','d']\n",
    "B = ['e',np.nan,'g','h']\n",
    "C = ['i', 'j', np.nan, 'l']\n",
    "D = ['a', 'e', 'i', 'o']\n",
    "E = ['s', 'k', np.nan, 'g']\n",
    "#create dataframe\n",
    "df = pd.DataFrame(data=[A, B, C, D, E], columns=['one', 'two', 'three', 'four'])"
   ]
  },
  {
   "cell_type": "code",
   "execution_count": null,
   "metadata": {
    "colab": {
     "base_uri": "https://localhost:8080/",
     "height": 206
    },
    "executionInfo": {
     "elapsed": 432,
     "status": "ok",
     "timestamp": 1639060361826,
     "user": {
      "displayName": "Kamal Shrestha",
      "photoUrl": "https://lh3.googleusercontent.com/a-/AOh14GhZlU2G_jDo1Jj43xtf4cGT-N2Mkl7nLkR25edY=s64",
      "userId": "16887459861874596715"
     },
     "user_tz": -345
    },
    "id": "2TXKAPU3nEON",
    "outputId": "28315ed9-ebd2-40b4-d2e2-83d6a1d42b66"
   },
   "outputs": [
    {
     "data": {
      "text/html": [
       "<div>\n",
       "<style scoped>\n",
       "    .dataframe tbody tr th:only-of-type {\n",
       "        vertical-align: middle;\n",
       "    }\n",
       "\n",
       "    .dataframe tbody tr th {\n",
       "        vertical-align: top;\n",
       "    }\n",
       "\n",
       "    .dataframe thead th {\n",
       "        text-align: right;\n",
       "    }\n",
       "</style>\n",
       "<table border=\"1\" class=\"dataframe\">\n",
       "  <thead>\n",
       "    <tr style=\"text-align: right;\">\n",
       "      <th></th>\n",
       "      <th>one</th>\n",
       "      <th>two</th>\n",
       "      <th>three</th>\n",
       "      <th>four</th>\n",
       "    </tr>\n",
       "  </thead>\n",
       "  <tbody>\n",
       "    <tr>\n",
       "      <th>0</th>\n",
       "      <td>a</td>\n",
       "      <td>b</td>\n",
       "      <td>c</td>\n",
       "      <td>d</td>\n",
       "    </tr>\n",
       "    <tr>\n",
       "      <th>1</th>\n",
       "      <td>e</td>\n",
       "      <td>NaN</td>\n",
       "      <td>g</td>\n",
       "      <td>h</td>\n",
       "    </tr>\n",
       "    <tr>\n",
       "      <th>2</th>\n",
       "      <td>i</td>\n",
       "      <td>j</td>\n",
       "      <td>NaN</td>\n",
       "      <td>l</td>\n",
       "    </tr>\n",
       "    <tr>\n",
       "      <th>3</th>\n",
       "      <td>a</td>\n",
       "      <td>e</td>\n",
       "      <td>i</td>\n",
       "      <td>o</td>\n",
       "    </tr>\n",
       "    <tr>\n",
       "      <th>4</th>\n",
       "      <td>s</td>\n",
       "      <td>k</td>\n",
       "      <td>NaN</td>\n",
       "      <td>g</td>\n",
       "    </tr>\n",
       "  </tbody>\n",
       "</table>\n",
       "</div>"
      ],
      "text/plain": [
       "  one  two three four\n",
       "0   a    b     c    d\n",
       "1   e  NaN     g    h\n",
       "2   i    j   NaN    l\n",
       "3   a    e     i    o\n",
       "4   s    k   NaN    g"
      ]
     },
     "execution_count": 27,
     "metadata": {},
     "output_type": "execute_result"
    }
   ],
   "source": [
    "#display dataframe\n",
    "df"
   ]
  },
  {
   "cell_type": "code",
   "execution_count": null,
   "metadata": {
    "colab": {
     "base_uri": "https://localhost:8080/"
    },
    "executionInfo": {
     "elapsed": 452,
     "status": "ok",
     "timestamp": 1639060510188,
     "user": {
      "displayName": "Kamal Shrestha",
      "photoUrl": "https://lh3.googleusercontent.com/a-/AOh14GhZlU2G_jDo1Jj43xtf4cGT-N2Mkl7nLkR25edY=s64",
      "userId": "16887459861874596715"
     },
     "user_tz": -345
    },
    "id": "8_vS9tpHnAaO",
    "outputId": "89993469-4833-452a-9a75-d6addb2ed3ee"
   },
   "outputs": [
    {
     "name": "stdout",
     "output_type": "stream",
     "text": [
      "  one  two three four\n",
      "0   a    b     c    d\n",
      "1   e  NaN     g    h\n",
      "2   i    j   NaN    l\n",
      "3   a    e     i    o\n",
      "4   s    k   NaN    g\n"
     ]
    }
   ],
   "source": [
    "df.fillna('Z')\n",
    "print(df)"
   ]
  },
  {
   "cell_type": "code",
   "execution_count": null,
   "metadata": {
    "colab": {
     "base_uri": "https://localhost:8080/"
    },
    "executionInfo": {
     "elapsed": 445,
     "status": "ok",
     "timestamp": 1639060513628,
     "user": {
      "displayName": "Kamal Shrestha",
      "photoUrl": "https://lh3.googleusercontent.com/a-/AOh14GhZlU2G_jDo1Jj43xtf4cGT-N2Mkl7nLkR25edY=s64",
      "userId": "16887459861874596715"
     },
     "user_tz": -345
    },
    "id": "pDwfJQLymiL1",
    "outputId": "f273e191-6d3c-4178-b56e-c799b6e65ea3"
   },
   "outputs": [
    {
     "name": "stdout",
     "output_type": "stream",
     "text": [
      "  one two three four\n",
      "0   a   b     c    d\n",
      "1   e   Z     g    h\n",
      "2   i   j     Z    l\n",
      "3   a   e     i    o\n",
      "4   s   k     Z    g\n"
     ]
    }
   ],
   "source": [
    "df.fillna('Z', inplace=True)\n",
    "print(df)"
   ]
  },
  {
   "cell_type": "markdown",
   "metadata": {
    "id": "FeU0gaqhoD4l"
   },
   "source": [
    "## Drop along the row\n",
    "# drop_na()\n",
    "If you want to exclude labels from a data set which refer to missing data, you can use dropna(). The dropna() function simply drop Rows/Columns of datasets with Null values in different ways. For this, we need to specify the parameters axis: axis takes int or string value for rows/columns. Input can be 0 or 1 for Integer and 'index' or 'columns' for String.\n",
    "To perform drop along the row, we need to define axis as zero or we can ignore axis paramter."
   ]
  },
  {
   "cell_type": "code",
   "execution_count": null,
   "metadata": {
    "colab": {
     "base_uri": "https://localhost:8080/",
     "height": 112
    },
    "executionInfo": {
     "elapsed": 10,
     "status": "ok",
     "timestamp": 1639059897551,
     "user": {
      "displayName": "Kamal Shrestha",
      "photoUrl": "https://lh3.googleusercontent.com/a-/AOh14GhZlU2G_jDo1Jj43xtf4cGT-N2Mkl7nLkR25edY=s64",
      "userId": "16887459861874596715"
     },
     "user_tz": -345
    },
    "id": "L2WJsQQNoG4y",
    "outputId": "4aa1fc72-530a-4e51-fb27-5c7bc5e8a7f0"
   },
   "outputs": [
    {
     "data": {
      "text/html": [
       "<div>\n",
       "<style scoped>\n",
       "    .dataframe tbody tr th:only-of-type {\n",
       "        vertical-align: middle;\n",
       "    }\n",
       "\n",
       "    .dataframe tbody tr th {\n",
       "        vertical-align: top;\n",
       "    }\n",
       "\n",
       "    .dataframe thead th {\n",
       "        text-align: right;\n",
       "    }\n",
       "</style>\n",
       "<table border=\"1\" class=\"dataframe\">\n",
       "  <thead>\n",
       "    <tr style=\"text-align: right;\">\n",
       "      <th></th>\n",
       "      <th>one</th>\n",
       "      <th>two</th>\n",
       "      <th>three</th>\n",
       "      <th>four</th>\n",
       "    </tr>\n",
       "  </thead>\n",
       "  <tbody>\n",
       "    <tr>\n",
       "      <th>0</th>\n",
       "      <td>a</td>\n",
       "      <td>b</td>\n",
       "      <td>c</td>\n",
       "      <td>d</td>\n",
       "    </tr>\n",
       "    <tr>\n",
       "      <th>3</th>\n",
       "      <td>a</td>\n",
       "      <td>e</td>\n",
       "      <td>i</td>\n",
       "      <td>o</td>\n",
       "    </tr>\n",
       "  </tbody>\n",
       "</table>\n",
       "</div>"
      ],
      "text/plain": [
       "  one two three four\n",
       "0   a   b     c    d\n",
       "3   a   e     i    o"
      ]
     },
     "execution_count": 13,
     "metadata": {},
     "output_type": "execute_result"
    }
   ],
   "source": [
    "df.dropna(axis=0)"
   ]
  },
  {
   "cell_type": "markdown",
   "metadata": {
    "id": "jtc0hjRKn_V7"
   },
   "source": [
    "## Drop along the column\n",
    "To perform drop along the column, we need to define axis as one."
   ]
  },
  {
   "cell_type": "code",
   "execution_count": null,
   "metadata": {
    "colab": {
     "base_uri": "https://localhost:8080/",
     "height": 206
    },
    "executionInfo": {
     "elapsed": 436,
     "status": "ok",
     "timestamp": 1639059903268,
     "user": {
      "displayName": "Kamal Shrestha",
      "photoUrl": "https://lh3.googleusercontent.com/a-/AOh14GhZlU2G_jDo1Jj43xtf4cGT-N2Mkl7nLkR25edY=s64",
      "userId": "16887459861874596715"
     },
     "user_tz": -345
    },
    "id": "rNH6wZNsUCox",
    "outputId": "825ba124-0de0-430a-cd07-4311008d5def"
   },
   "outputs": [
    {
     "data": {
      "text/html": [
       "<div>\n",
       "<style scoped>\n",
       "    .dataframe tbody tr th:only-of-type {\n",
       "        vertical-align: middle;\n",
       "    }\n",
       "\n",
       "    .dataframe tbody tr th {\n",
       "        vertical-align: top;\n",
       "    }\n",
       "\n",
       "    .dataframe thead th {\n",
       "        text-align: right;\n",
       "    }\n",
       "</style>\n",
       "<table border=\"1\" class=\"dataframe\">\n",
       "  <thead>\n",
       "    <tr style=\"text-align: right;\">\n",
       "      <th></th>\n",
       "      <th>one</th>\n",
       "      <th>four</th>\n",
       "    </tr>\n",
       "  </thead>\n",
       "  <tbody>\n",
       "    <tr>\n",
       "      <th>0</th>\n",
       "      <td>a</td>\n",
       "      <td>d</td>\n",
       "    </tr>\n",
       "    <tr>\n",
       "      <th>1</th>\n",
       "      <td>e</td>\n",
       "      <td>h</td>\n",
       "    </tr>\n",
       "    <tr>\n",
       "      <th>2</th>\n",
       "      <td>i</td>\n",
       "      <td>l</td>\n",
       "    </tr>\n",
       "    <tr>\n",
       "      <th>3</th>\n",
       "      <td>a</td>\n",
       "      <td>o</td>\n",
       "    </tr>\n",
       "    <tr>\n",
       "      <th>4</th>\n",
       "      <td>s</td>\n",
       "      <td>g</td>\n",
       "    </tr>\n",
       "  </tbody>\n",
       "</table>\n",
       "</div>"
      ],
      "text/plain": [
       "  one four\n",
       "0   a    d\n",
       "1   e    h\n",
       "2   i    l\n",
       "3   a    o\n",
       "4   s    g"
      ]
     },
     "execution_count": 14,
     "metadata": {},
     "output_type": "execute_result"
    }
   ],
   "source": [
    "df.dropna(axis=1)"
   ]
  },
  {
   "cell_type": "markdown",
   "metadata": {
    "id": "m-t-GpPjDk5u"
   },
   "source": [
    "# Apply functions\n",
    "Let us say you have some data, and you want to apply a function on every item of the dataframe. We can apply it row-wise or column-wise, according to your requirements. It can also be a custom function that you make. "
   ]
  },
  {
   "cell_type": "code",
   "execution_count": null,
   "metadata": {
    "colab": {
     "base_uri": "https://localhost:8080/",
     "height": 175
    },
    "executionInfo": {
     "elapsed": 435,
     "status": "ok",
     "timestamp": 1639059935051,
     "user": {
      "displayName": "Kamal Shrestha",
      "photoUrl": "https://lh3.googleusercontent.com/a-/AOh14GhZlU2G_jDo1Jj43xtf4cGT-N2Mkl7nLkR25edY=s64",
      "userId": "16887459861874596715"
     },
     "user_tz": -345
    },
    "id": "8qTBbLSgAfEo",
    "outputId": "82bcabc1-d605-41a4-b187-9261fcbe6414"
   },
   "outputs": [
    {
     "data": {
      "text/html": [
       "<div>\n",
       "<style scoped>\n",
       "    .dataframe tbody tr th:only-of-type {\n",
       "        vertical-align: middle;\n",
       "    }\n",
       "\n",
       "    .dataframe tbody tr th {\n",
       "        vertical-align: top;\n",
       "    }\n",
       "\n",
       "    .dataframe thead th {\n",
       "        text-align: right;\n",
       "    }\n",
       "</style>\n",
       "<table border=\"1\" class=\"dataframe\">\n",
       "  <thead>\n",
       "    <tr style=\"text-align: right;\">\n",
       "      <th></th>\n",
       "      <th>A</th>\n",
       "      <th>B</th>\n",
       "    </tr>\n",
       "  </thead>\n",
       "  <tbody>\n",
       "    <tr>\n",
       "      <th>0</th>\n",
       "      <td>1</td>\n",
       "      <td>5</td>\n",
       "    </tr>\n",
       "    <tr>\n",
       "      <th>1</th>\n",
       "      <td>2</td>\n",
       "      <td>6</td>\n",
       "    </tr>\n",
       "    <tr>\n",
       "      <th>2</th>\n",
       "      <td>3</td>\n",
       "      <td>7</td>\n",
       "    </tr>\n",
       "    <tr>\n",
       "      <th>3</th>\n",
       "      <td>4</td>\n",
       "      <td>8</td>\n",
       "    </tr>\n",
       "  </tbody>\n",
       "</table>\n",
       "</div>"
      ],
      "text/plain": [
       "   A  B\n",
       "0  1  5\n",
       "1  2  6\n",
       "2  3  7\n",
       "3  4  8"
      ]
     },
     "execution_count": 15,
     "metadata": {},
     "output_type": "execute_result"
    }
   ],
   "source": [
    "import pandas as pd\n",
    "dic = {'A':[1,2,3,4], 'B':[5,6,7,8]}\n",
    "df = pd.DataFrame(dic)\n",
    "df"
   ]
  },
  {
   "cell_type": "markdown",
   "metadata": {
    "id": "OpQfJ_zyQvX7"
   },
   "source": [
    "Consider the dataframe above. Now we define a function that we want to apply to every member of the dataframe. Let us consider the function `sum()`. "
   ]
  },
  {
   "cell_type": "code",
   "execution_count": null,
   "metadata": {
    "colab": {
     "base_uri": "https://localhost:8080/"
    },
    "executionInfo": {
     "elapsed": 431,
     "status": "ok",
     "timestamp": 1639059969811,
     "user": {
      "displayName": "Kamal Shrestha",
      "photoUrl": "https://lh3.googleusercontent.com/a-/AOh14GhZlU2G_jDo1Jj43xtf4cGT-N2Mkl7nLkR25edY=s64",
      "userId": "16887459861874596715"
     },
     "user_tz": -345
    },
    "id": "Yjm1F-BgGhLP",
    "outputId": "77eb39b9-988d-48fc-91a3-1f0b0609500d"
   },
   "outputs": [
    {
     "data": {
      "text/plain": [
       "A    10\n",
       "B    26\n",
       "dtype: int64"
      ]
     },
     "execution_count": 16,
     "metadata": {},
     "output_type": "execute_result"
    }
   ],
   "source": [
    "df.apply(sum)"
   ]
  },
  {
   "cell_type": "markdown",
   "metadata": {
    "id": "sRfWfRtQIO8V"
   },
   "source": [
    "Notice that we have passed the function without the parentheses. We have received the sum of all the rows in A and B. This is because we put the parameter `axis=0`. If the axis is 1, we can perform these functions on the columns instead."
   ]
  },
  {
   "cell_type": "code",
   "execution_count": null,
   "metadata": {
    "colab": {
     "base_uri": "https://localhost:8080/",
     "height": 108
    },
    "executionInfo": {
     "elapsed": 1090,
     "status": "ok",
     "timestamp": 1571744288055,
     "user": {
      "displayName": "Aditi Gajurel",
      "photoUrl": "",
      "userId": "01206040013223447356"
     },
     "user_tz": -345
    },
    "id": "NHA-DuerJHGA",
    "outputId": "f672d6ca-c3e1-4a76-809c-6874c50a1d0a"
   },
   "outputs": [
    {
     "data": {
      "text/plain": [
       "0     6\n",
       "1     8\n",
       "2    10\n",
       "3    12\n",
       "dtype: int64"
      ]
     },
     "execution_count": 25,
     "metadata": {
      "tags": []
     },
     "output_type": "execute_result"
    }
   ],
   "source": [
    "df.apply(sum, axis=1) # mean, median, quartiles and more"
   ]
  },
  {
   "cell_type": "markdown",
   "metadata": {
    "id": "ohSgJKL69Ovl"
   },
   "source": [
    "## Filter()\n",
    "Now let’s see another function called Pandas dataframe filter function. The filter function is used to Subset rows or columns of dataframe according to labels in the specified index. The things to notice is that the filter is applied to the labels of the index,this does not filter a dataframe on its contents. "
   ]
  },
  {
   "cell_type": "code",
   "execution_count": 6,
   "metadata": {
    "colab": {
     "base_uri": "https://localhost:8080/"
    },
    "executionInfo": {
     "elapsed": 1011,
     "status": "ok",
     "timestamp": 1616646119622,
     "user": {
      "displayName": "Anil Kumar Sah",
      "photoUrl": "",
      "userId": "01161799776166503533"
     },
     "user_tz": -345
    },
    "id": "p8RQpkz89Nvf",
    "outputId": "24986d4a-0e94-43b1-e86f-48be671dac8b"
   },
   "outputs": [
    {
     "data": {
      "text/plain": [
       "Coca Cola    45\n",
       "Coke         40\n",
       "Fanta        40\n",
       "Dew          50\n",
       "Thumbs Up    30\n",
       "dtype: int64"
      ]
     },
     "execution_count": 6,
     "metadata": {},
     "output_type": "execute_result"
    }
   ],
   "source": [
    "# importing pandas as pd\n",
    "import pandas as pd\n",
    "  \n",
    "# Creating the Series\n",
    "sr = pd.Series({'Coca Cola': 45, 'Coke': 40, 'Fanta': 40, 'Dew': 50, 'Thumbs Up':30})\n",
    "\n",
    "# Print the series\n",
    "sr"
   ]
  },
  {
   "cell_type": "code",
   "execution_count": 7,
   "metadata": {
    "colab": {
     "base_uri": "https://localhost:8080/"
    },
    "executionInfo": {
     "elapsed": 963,
     "status": "ok",
     "timestamp": 1616646608522,
     "user": {
      "displayName": "Anil Kumar Sah",
      "photoUrl": "",
      "userId": "01161799776166503533"
     },
     "user_tz": -345
    },
    "id": "QmkM5w2ESRCQ",
    "outputId": "4aae31c9-12d7-4286-8323-479574ad28a8"
   },
   "outputs": [
    {
     "data": {
      "text/plain": [
       "Coca Cola    45\n",
       "Thumbs Up    30\n",
       "dtype: int64"
      ]
     },
     "execution_count": 7,
     "metadata": {},
     "output_type": "execute_result"
    }
   ],
   "source": [
    "# filter values\n",
    "sr.filter(regex = '. .')\n"
   ]
  },
  {
   "cell_type": "code",
   "execution_count": null,
   "metadata": {
    "colab": {
     "base_uri": "https://localhost:8080/"
    },
    "executionInfo": {
     "elapsed": 1032,
     "status": "ok",
     "timestamp": 1616647642841,
     "user": {
      "displayName": "Anil Kumar Sah",
      "photoUrl": "",
      "userId": "01161799776166503533"
     },
     "user_tz": -345
    },
    "id": "SFdd6t79Xk06",
    "outputId": "ad9b78b6-307d-4300-b0f6-6b79e16bc822"
   },
   "outputs": [
    {
     "data": {
      "text/plain": [
       "Coke     40\n",
       "Fanta    40\n",
       "dtype: int64"
      ]
     },
     "execution_count": 19,
     "metadata": {
      "tags": []
     },
     "output_type": "execute_result"
    }
   ],
   "source": [
    "sr.filter(items=['Coke', 'Fanta'])"
   ]
  },
  {
   "cell_type": "markdown",
   "metadata": {
    "id": "-fcodStqj7io"
   },
   "source": [
    "# References:\n",
    "* [Panadas Fillna](https://pandas.pydata.org/docs/reference/api/pandas.DataFrame.fillna.html)\n",
    "* [Pandas drop_na](https://pandas.pydata.org/pandas-docs/stable/reference/api/pandas.DataFrame.dropna.html)\n",
    "* [Pandas Filter](https://pandas.pydata.org/docs/reference/api/pandas.DataFrame.filter.html)"
   ]
  }
 ],
 "metadata": {
  "colab": {
   "collapsed_sections": [],
   "name": "Read: Data Manipulation.ipynb",
   "provenance": []
  },
  "kernelspec": {
   "display_name": "Python 3",
   "name": "python3"
  },
  "language_info": {
   "codemirror_mode": {
    "name": "ipython",
    "version": 3
   },
   "file_extension": ".py",
   "mimetype": "text/x-python",
   "name": "python",
   "nbconvert_exporter": "python",
   "pygments_lexer": "ipython3",
   "version": "3.11.7"
  }
 },
 "nbformat": 4,
 "nbformat_minor": 0
}
